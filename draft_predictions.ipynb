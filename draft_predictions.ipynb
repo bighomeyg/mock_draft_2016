{
 "cells": [
  {
   "cell_type": "markdown",
   "metadata": {},
   "source": [
    "# Building a Model to Build a Better Team\n",
    "#### Can we use a team's performance the previous year to predict who they will take in the first round of the upcoming NFL draft?"
   ]
  },
  {
   "cell_type": "code",
   "execution_count": 17,
   "metadata": {
    "collapsed": false
   },
   "outputs": [],
   "source": [
    "%matplotlib inline\n",
    "\n",
    "import numpy as np\n",
    "import pandas as pd\n",
    "import seaborn as sns\n",
    "import matplotlib.pyplot as plt\n",
    "from sklearn import cross_validation\n",
    "from sklearn import svm\n",
    "from sklearn.neighbors import NearestNeighbors\n",
    "from sklearn.ensemble import RandomForestClassifier \n",
    "from sklearn.linear_model import LogisticRegression\n",
    "from sklearn.cross_validation import cross_val_score\n",
    "from sklearn.neighbors import KNeighborsClassifier"
   ]
  },
  {
   "cell_type": "markdown",
   "metadata": {},
   "source": [
    "I've compiled a .csv file, draft_rankings.csv, that spans 10 NFL seasons (still adding to the list), detailing the offensive and defensive ranking, sorted by yards gained and allowed, respectively. The final column denotes which side of the ball that their first draft pick played. For teams with multiple first round draft picks, I've only included their first pick.\n",
    "\n",
    "I took this coarse statistical view to avoid contamination from similar statistics (e.g. total yards, passing yards, rushing yards). This seems like the most reasonable first pass approach."
   ]
  },
  {
   "cell_type": "code",
   "execution_count": 18,
   "metadata": {
    "collapsed": false
   },
   "outputs": [
    {
     "data": {
      "text/html": [
       "<div>\n",
       "<table border=\"1\" class=\"dataframe\">\n",
       "  <thead>\n",
       "    <tr style=\"text-align: right;\">\n",
       "      <th></th>\n",
       "      <th>Team</th>\n",
       "      <th>Year</th>\n",
       "      <th>Orank</th>\n",
       "      <th>Drank</th>\n",
       "      <th>IsOffense</th>\n",
       "      <th>Pick</th>\n",
       "    </tr>\n",
       "  </thead>\n",
       "  <tbody>\n",
       "    <tr>\n",
       "      <th>0</th>\n",
       "      <td>Arizona Cardinals</td>\n",
       "      <td>2006</td>\n",
       "      <td>18</td>\n",
       "      <td>29</td>\n",
       "      <td>1.0</td>\n",
       "      <td>5.0</td>\n",
       "    </tr>\n",
       "    <tr>\n",
       "      <th>1</th>\n",
       "      <td>Atlanta Falcons</td>\n",
       "      <td>2006</td>\n",
       "      <td>12</td>\n",
       "      <td>22</td>\n",
       "      <td>0.0</td>\n",
       "      <td>8.0</td>\n",
       "    </tr>\n",
       "    <tr>\n",
       "      <th>2</th>\n",
       "      <td>Baltimore Ravens</td>\n",
       "      <td>2006</td>\n",
       "      <td>17</td>\n",
       "      <td>1</td>\n",
       "      <td>1.0</td>\n",
       "      <td>29.0</td>\n",
       "    </tr>\n",
       "    <tr>\n",
       "      <th>3</th>\n",
       "      <td>Buffalo Bills</td>\n",
       "      <td>2006</td>\n",
       "      <td>30</td>\n",
       "      <td>18</td>\n",
       "      <td>1.0</td>\n",
       "      <td>12.0</td>\n",
       "    </tr>\n",
       "    <tr>\n",
       "      <th>4</th>\n",
       "      <td>Carolina Panthers</td>\n",
       "      <td>2006</td>\n",
       "      <td>24</td>\n",
       "      <td>7</td>\n",
       "      <td>0.0</td>\n",
       "      <td>25.0</td>\n",
       "    </tr>\n",
       "  </tbody>\n",
       "</table>\n",
       "</div>"
      ],
      "text/plain": [
       "                Team  Year  Orank  Drank  IsOffense  Pick\n",
       "0  Arizona Cardinals  2006     18     29        1.0   5.0\n",
       "1    Atlanta Falcons  2006     12     22        0.0   8.0\n",
       "2   Baltimore Ravens  2006     17      1        1.0  29.0\n",
       "3      Buffalo Bills  2006     30     18        1.0  12.0\n",
       "4  Carolina Panthers  2006     24      7        0.0  25.0"
      ]
     },
     "execution_count": 18,
     "metadata": {},
     "output_type": "execute_result"
    }
   ],
   "source": [
    "pd.read_csv(\"~/Desktop/draft_rankings.csv\").head()"
   ]
  },
  {
   "cell_type": "markdown",
   "metadata": {},
   "source": [
    "Load in the relevant data and omit teams with no first round draft pick from the model:"
   ]
  },
  {
   "cell_type": "code",
   "execution_count": 19,
   "metadata": {
    "collapsed": false
   },
   "outputs": [
    {
     "name": "stdout",
     "output_type": "stream",
     "text": [
      "                Team  Year  Orank  Drank  IsOffense  Pick\n",
      "0  Arizona Cardinals  2006     18     29        1.0   5.0\n",
      "1    Atlanta Falcons  2006     12     22        0.0   8.0\n",
      "2   Baltimore Ravens  2006     17      1        1.0  29.0\n",
      "3      Buffalo Bills  2006     30     18        1.0  12.0\n",
      "4  Carolina Panthers  2006     24      7        0.0  25.0\n"
     ]
    }
   ],
   "source": [
    "all_teams=pd.read_csv(\"draft_rankings.csv\")\n",
    "picks=all_teams.dropna(subset=['IsOffense'])\n",
    "print picks.head()"
   ]
  },
  {
   "cell_type": "code",
   "execution_count": 20,
   "metadata": {
    "collapsed": false,
    "scrolled": true
   },
   "outputs": [],
   "source": [
    "df = pd.DataFrame(picks, columns=['Orank', 'Drank', 'IsOffense'])\n",
    "data_array = df.as_matrix()\n",
    "#print df"
   ]
  },
  {
   "cell_type": "code",
   "execution_count": 21,
   "metadata": {
    "collapsed": false,
    "scrolled": true
   },
   "outputs": [
    {
     "data": {
      "image/png": "[encoded data removed]",
      "text/plain": [
       "<matplotlib.figure.Figure at 0x10d717410>"
      ]
     },
     "metadata": {},
     "output_type": "display_data"
    }
   ],
   "source": [
    "sns.set_context(\"notebook\", font_scale=1.1)\n",
    "sns.set(style=\"ticks\")\n",
    "sns.lmplot('Orank', 'Drank', data=df, hue='IsOffense', fit_reg=False)#, x_jitter=.15, y_jitter=.15)\n",
    "plt.xlabel(\"Offense Rank\")\n",
    "plt.ylabel(\"Defense Rank\")\n",
    "plt.show()"
   ]
  },
  {
   "cell_type": "markdown",
   "metadata": {},
   "source": [
    "2D scatter plot doesn't show strong clusters of tendencies. Bad defensive teams still pick offensive guys, and vice versa. Most interesting regions are top left and bottom right (the poles). Intriguingly, why do teams with great defenses not seem to have terrible offenses? This is yards allowed, after all..."
   ]
  },
  {
   "cell_type": "code",
   "execution_count": 22,
   "metadata": {
    "collapsed": false
   },
   "outputs": [
    {
     "data": {
      "image/png": "[encoded data removed]",
      "text/plain": [
       "<matplotlib.figure.Figure at 0x10d7172d0>"
      ]
     },
     "metadata": {},
     "output_type": "display_data"
    },
    {
     "data": {
      "image/png": "[encoded data removed]",
      "text/plain": [
       "<matplotlib.figure.Figure at 0x10d3cc450>"
      ]
     },
     "metadata": {},
     "output_type": "display_data"
    }
   ],
   "source": [
    "sns.set_context(\"notebook\", font_scale=1.1)\n",
    "sns.set(style=\"darkgrid\")\n",
    "#sns.pairplot(df, x_vars=['Orank', 'Drank'], y_vars='IsOffense', size=7, aspect=0.7)\n",
    "sns.lmplot(x='Orank', y='IsOffense', data=df, logistic=True)#, y_jitter=.03);\n",
    "sns.lmplot(x='Drank', y='IsOffense', data=df, logistic=True)#, y_jitter=.03);\n",
    "plt.show()"
   ]
  },
  {
   "cell_type": "markdown",
   "metadata": {},
   "source": [
    "Maybe a logistic regression could show some tendencies. Orrrrr not. Time to split the data into training and test sets to see if machine learning can uncover anything invisible to the eye."
   ]
  },
  {
   "cell_type": "code",
   "execution_count": 23,
   "metadata": {
    "collapsed": false
   },
   "outputs": [
    {
     "data": {
      "text/plain": [
       "((190, 2), (190,))"
      ]
     },
     "execution_count": 23,
     "metadata": {},
     "output_type": "execute_result"
    }
   ],
   "source": [
    "stats = data_array[:, 1:3]\n",
    "draftpick = data_array[:,2]\n",
    "rankings=pd.DataFrame(picks, columns=['Orank', 'Drank'])\n",
    "\n",
    "X_train, X_test, y_train, y_test = cross_validation.train_test_split(rankings, draftpick, test_size=0.25, random_state=3)\n",
    "\n",
    "X_train.shape, y_train.shape\n"
   ]
  },
  {
   "cell_type": "markdown",
   "metadata": {},
   "source": [
    "I like the thought of a KNN approach here. Though a pattern doesn't seem too apparent from the 2D scatter plot above, local clustering could be predictive. Or, general probability (3/5 might not be very obvious visually, but could be useful for modeling)..."
   ]
  },
  {
   "cell_type": "markdown",
   "metadata": {},
   "source": [
    "## K-Nearest Neighbors"
   ]
  },
  {
   "cell_type": "code",
   "execution_count": 24,
   "metadata": {
    "collapsed": false
   },
   "outputs": [
    {
     "name": "stdout",
     "output_type": "stream",
     "text": [
      "[0.51076923076923075, 0.49169230769230765, 0.54599999999999993, 0.54661538461538461, 0.55846153846153845, 0.55830769230769239, 0.51476923076923087, 0.51523076923076927, 0.50353846153846149, 0.52707692307692311, 0.49215384615384616, 0.49184615384615382, 0.51523076923076938, 0.52723076923076928, 0.53538461538461546, 0.54338461538461524, 0.52369230769230768, 0.52769230769230757, 0.53153846153846152, 0.55907692307692314, 0.52353846153846151, 0.52753846153846162, 0.51569230769230767, 0.53107692307692311, 0.52353846153846162, 0.49984615384615383, 0.51200000000000001, 0.50461538461538469, 0.52415384615384619, 0.51200000000000001]\n"
     ]
    }
   ],
   "source": [
    "k_range=range(1,31)\n",
    "k_scores=[]\n",
    "for k in k_range:\n",
    "    knn = KNeighborsClassifier(n_neighbors=k)\n",
    "    scores=cross_val_score(knn, rankings, draftpick, cv=10, scoring='accuracy')\n",
    "    k_scores.append(scores.mean())\n",
    "print k_scores\n",
    "\n"
   ]
  },
  {
   "cell_type": "code",
   "execution_count": 25,
   "metadata": {
    "collapsed": false
   },
   "outputs": [
    {
     "data": {
      "text/plain": [
       "[<matplotlib.lines.Line2D at 0x10d300bd0>]"
      ]
     },
     "execution_count": 25,
     "metadata": {},
     "output_type": "execute_result"
    },
    {
     "data": {
      "image/png": "[encoded data removed]",
      "text/plain": [
       "<matplotlib.figure.Figure at 0x10d44ba10>"
      ]
     },
     "metadata": {},
     "output_type": "display_data"
    }
   ],
   "source": [
    "plt.plot(k_range, k_scores)"
   ]
  },
  {
   "cell_type": "code",
   "execution_count": 26,
   "metadata": {
    "collapsed": false
   },
   "outputs": [
    {
     "name": "stdout",
     "output_type": "stream",
     "text": [
      "[ 0.]\n"
     ]
    }
   ],
   "source": [
    "knn20_model=KNeighborsClassifier(n_neighbors=20)\n",
    "knn20_model.fit(X_train, y_train)\n",
    "print knn20_model.predict([[12,20]])"
   ]
  },
  {
   "cell_type": "markdown",
   "metadata": {},
   "source": [
    "Well that's not very good. After playing with the number of nearest neighbors, it's pretty apparent that this isn't a much more useful approach than flipping a coin. Are there any other models that perform better?"
   ]
  },
  {
   "cell_type": "markdown",
   "metadata": {},
   "source": [
    "## Logistic Regression"
   ]
  },
  {
   "cell_type": "code",
   "execution_count": 27,
   "metadata": {
    "collapsed": false
   },
   "outputs": [
    {
     "name": "stdout",
     "output_type": "stream",
     "text": [
      "[ 0.61538462  0.5         0.57692308  0.57692308  0.52        0.52        0.68\n",
      "  0.36        0.68        0.48      ]\n",
      "0.550923076923\n"
     ]
    }
   ],
   "source": [
    "logreg = LogisticRegression()\n",
    "scores=cross_val_score(logreg, rankings, draftpick, cv=10, scoring='accuracy')\n",
    "print scores\n",
    "print scores.mean()"
   ]
  },
  {
   "cell_type": "code",
   "execution_count": 28,
   "metadata": {
    "collapsed": false
   },
   "outputs": [
    {
     "name": "stdout",
     "output_type": "stream",
     "text": [
      "0.563157894737\n",
      "[ 0.]\n"
     ]
    }
   ],
   "source": [
    "logreg_model = logreg.fit(X_train, y_train)\n",
    "print logreg_model.score(X_train, y_train)\n",
    "print logreg_model.predict([[12,20]])"
   ]
  },
  {
   "cell_type": "markdown",
   "metadata": {
    "collapsed": true
   },
   "source": [
    "Overall, it looks like logistic regression is SLIGHTLY better than KNN. Nevertheless, about the best I can get is 60% accuracy. Logistic regression accuracy is improved when both offense and defense performance are included, which intuitively makes sense. But still, this is pretty weak."
   ]
  },
  {
   "cell_type": "markdown",
   "metadata": {},
   "source": [
    "## Random Forest"
   ]
  },
  {
   "cell_type": "code",
   "execution_count": 29,
   "metadata": {
    "collapsed": false
   },
   "outputs": [
    {
     "name": "stdout",
     "output_type": "stream",
     "text": [
      "[ 0.65384615  0.42307692  0.53846154  0.65384615  0.52        0.64        0.36\n",
      "  0.44        0.56        0.56      ]\n",
      "0.534923076923\n"
     ]
    }
   ],
   "source": [
    "rf_model = RandomForestClassifier()\n",
    "scores=cross_val_score(rf, rankings, draftpick, cv=10, scoring='accuracy')\n",
    "rf_model = rf_model.fit(X_train, y_train)\n",
    "print scores\n",
    "print scores.mean()"
   ]
  },
  {
   "cell_type": "code",
   "execution_count": 30,
   "metadata": {
    "collapsed": false
   },
   "outputs": [
    {
     "data": {
      "text/plain": [
       "array([ 0.])"
      ]
     },
     "execution_count": 30,
     "metadata": {},
     "output_type": "execute_result"
    }
   ],
   "source": [
    "rf_model.predict([[12,20]])"
   ]
  },
  {
   "cell_type": "markdown",
   "metadata": {},
   "source": [
    "## Support Vector Machine"
   ]
  },
  {
   "cell_type": "code",
   "execution_count": 31,
   "metadata": {
    "collapsed": false
   },
   "outputs": [
    {
     "name": "stdout",
     "output_type": "stream",
     "text": [
      "[ 0.69230769  0.57692308  0.57692308  0.65384615  0.56        0.6         0.36\n",
      "  0.56        0.52        0.44      ]\n",
      "0.554\n"
     ]
    }
   ],
   "source": [
    "svm_model=svm.SVC()\n",
    "scores=cross_val_score(svm_model, rankings, draftpick, cv=10, scoring='accuracy')\n",
    "print scores\n",
    "print scores.mean()"
   ]
  },
  {
   "cell_type": "code",
   "execution_count": 32,
   "metadata": {
    "collapsed": false
   },
   "outputs": [
    {
     "data": {
      "text/plain": [
       "array([ 1.])"
      ]
     },
     "execution_count": 32,
     "metadata": {},
     "output_type": "execute_result"
    }
   ],
   "source": [
    "svm_model = svm_model.fit(X_train, y_train)\n",
    "svm_model.predict([[12,20]])"
   ]
  },
  {
   "cell_type": "markdown",
   "metadata": {},
   "source": [
    "Overall, I'm not really seeing any significant improvement over a coin flip. Logistic regression seems to be the most accurate, but it's only about 55% accurate. I'll need to search elsewhere for features if I want to predict the draft."
   ]
  },
  {
   "cell_type": "markdown",
   "metadata": {},
   "source": [
    "#### To Do:\n",
    "1. ~~Augment dataset to increase sampling. Could reduce stochasticity in data.~~\n",
    "  * Added two more years to round out dataset to 10 years, and performance didn't really improve\n",
    "2. Slice statistics to a more granular level (passing yards, rushing yards, tackles, turnovers). Skeptical about the ROI here, though.\n",
    "3. Look at \"expert predictions\". There's a lot that this method ignores: free agency, retirement, devastating injuries, etc., that could influence the way a team will pick. \n",
    "4. Add which draft pick the team had to the data set. Does the model hold up better for the first few picks, and then fall apart when teams start taking the best remaining player, regardless of need?"
   ]
  },
  {
   "cell_type": "code",
   "execution_count": null,
   "metadata": {
    "collapsed": true
   },
   "outputs": [],
   "source": []
  }
 ],
 "metadata": {
  "kernelspec": {
   "display_name": "Python 2",
   "language": "python",
   "name": "python2"
  },
  "language_info": {
   "codemirror_mode": {
    "name": "ipython",
    "version": 2
   },
   "file_extension": ".py",
   "mimetype": "text/x-python",
   "name": "python",
   "nbconvert_exporter": "python",
   "pygments_lexer": "ipython2",
   "version": "2.7.11"
  }
 },
 "nbformat": 4,
 "nbformat_minor": 0
}
