{
 "cells": [
  {
   "cell_type": "markdown",
   "metadata": {},
   "source": [
    "# Building a Model to Build a Better Team\n",
    "#### Can we use a team's performance the previous year to predict who they will take in the first round of the upcoming NFL draft?"
   ]
  },
  {
   "cell_type": "code",
   "execution_count": 39,
   "metadata": {
    "collapsed": false
   },
   "outputs": [],
   "source": [
    "%matplotlib inline\n",
    "import numpy as np\n",
    "import pandas as pd\n",
    "import seaborn as sns\n",
    "import matplotlib.pyplot as plt\n",
    "from sklearn import cross_validation\n",
    "from sklearn import svm\n",
    "from sklearn.neighbors import NearestNeighbors\n",
    "from sklearn import neighbors\n",
    "from matplotlib.colors import ListedColormap\n",
    "from sklearn.ensemble import RandomForestClassifier \n",
    "from sklearn.linear_model import LogisticRegression"
   ]
  },
  {
   "cell_type": "markdown",
   "metadata": {},
   "source": [
    "I've compiled a .csv file, draft_rankings.csv, that spans 7 NFL seasons (still adding to the list), detailing the offensive and defensive ranking, sorted by yards gained and allowed, respectively. The final column denotes which side of the ball that their first draft pick played. For teams with multiple first round draft picks, I've only included their first pick.\n",
    "\n",
    "I took this coarse statistical view to avoid contamination from similar statistics (e.g. total yards, passing yards, rushing yards). This seems like the most reasonable first pass approach."
   ]
  },
  {
   "cell_type": "code",
   "execution_count": 40,
   "metadata": {
    "collapsed": false
   },
   "outputs": [
    {
     "data": {
      "text/html": [
       "<div>\n",
       "<table border=\"1\" class=\"dataframe\">\n",
       "  <thead>\n",
       "    <tr style=\"text-align: right;\">\n",
       "      <th></th>\n",
       "      <th>Team</th>\n",
       "      <th>Year</th>\n",
       "      <th>Orank</th>\n",
       "      <th>Drank</th>\n",
       "      <th>IsOffense</th>\n",
       "    </tr>\n",
       "  </thead>\n",
       "  <tbody>\n",
       "    <tr>\n",
       "      <th>0</th>\n",
       "      <td>Arizona Cardinals</td>\n",
       "      <td>2008</td>\n",
       "      <td>4</td>\n",
       "      <td>19</td>\n",
       "      <td>1.0</td>\n",
       "    </tr>\n",
       "    <tr>\n",
       "      <th>1</th>\n",
       "      <td>Atlanta Falcons</td>\n",
       "      <td>2008</td>\n",
       "      <td>6</td>\n",
       "      <td>24</td>\n",
       "      <td>0.0</td>\n",
       "    </tr>\n",
       "    <tr>\n",
       "      <th>2</th>\n",
       "      <td>Baltimore Ravens</td>\n",
       "      <td>2008</td>\n",
       "      <td>18</td>\n",
       "      <td>2</td>\n",
       "      <td>1.0</td>\n",
       "    </tr>\n",
       "    <tr>\n",
       "      <th>3</th>\n",
       "      <td>Buffalo Bills</td>\n",
       "      <td>2008</td>\n",
       "      <td>25</td>\n",
       "      <td>14</td>\n",
       "      <td>0.0</td>\n",
       "    </tr>\n",
       "    <tr>\n",
       "      <th>4</th>\n",
       "      <td>Carolina Panthers</td>\n",
       "      <td>2008</td>\n",
       "      <td>10</td>\n",
       "      <td>18</td>\n",
       "      <td>NaN</td>\n",
       "    </tr>\n",
       "  </tbody>\n",
       "</table>\n",
       "</div>"
      ],
      "text/plain": [
       "                Team  Year  Orank  Drank  IsOffense\n",
       "0  Arizona Cardinals  2008      4     19        1.0\n",
       "1    Atlanta Falcons  2008      6     24        0.0\n",
       "2   Baltimore Ravens  2008     18      2        1.0\n",
       "3      Buffalo Bills  2008     25     14        0.0\n",
       "4  Carolina Panthers  2008     10     18        NaN"
      ]
     },
     "execution_count": 40,
     "metadata": {},
     "output_type": "execute_result"
    }
   ],
   "source": [
    "pd.read_csv(\"draft_rankings.csv\").head()"
   ]
  },
  {
   "cell_type": "code",
   "execution_count": 3,
   "metadata": {
    "collapsed": false
   },
   "outputs": [
    {
     "name": "stdout",
     "output_type": "stream",
     "text": [
      "                 Team  Year  Orank  Drank  IsOffense\n",
      "0   Arizona Cardinals  2008      4     19        1.0\n",
      "1     Atlanta Falcons  2008      6     24        0.0\n",
      "2    Baltimore Ravens  2008     18      2        1.0\n",
      "3       Buffalo Bills  2008     25     14        0.0\n",
      "6  Cincinnati Bengals  2008     32     12        1.0\n"
     ]
    }
   ],
   "source": [
    "all_teams=pd.read_csv(\"draft_rankings.csv\")\n",
    "picks=all_teams.dropna()\n",
    "print picks.head()"
   ]
  },
  {
   "cell_type": "markdown",
   "metadata": {},
   "source": [
    "Load in the relevant data and omit teams with no first round draft pick from the model:"
   ]
  },
  {
   "cell_type": "code",
   "execution_count": 4,
   "metadata": {
    "collapsed": false,
    "scrolled": true
   },
   "outputs": [
    {
     "name": "stdout",
     "output_type": "stream",
     "text": [
      "   Orank  Drank  IsOffense\n",
      "0      4     19        1.0\n",
      "1      6     24        0.0\n",
      "2     18      2        1.0\n",
      "3     25     14        0.0\n",
      "6     32     12        1.0\n"
     ]
    }
   ],
   "source": [
    "df = pd.DataFrame(picks, columns=['Orank', 'Drank', 'IsOffense'])\n",
    "data_array = df.as_matrix()\n",
    "print df.head()"
   ]
  },
  {
   "cell_type": "code",
   "execution_count": 5,
   "metadata": {
    "collapsed": false,
    "scrolled": true
   },
   "outputs": [
    {
     "data": {
      "image/png": "[encoded data removed]",
      "text/plain": [
       "<matplotlib.figure.Figure at 0x1130d9dd0>"
      ]
     },
     "metadata": {},
     "output_type": "display_data"
    }
   ],
   "source": [
    "sns.set_context(\"notebook\", font_scale=1.1)\n",
    "sns.set(style=\"ticks\")\n",
    "sns.lmplot('Orank', 'Drank', data=df, hue='IsOffense', fit_reg=False) #x_jitter=.15, y_jitter=.15)\n",
    "plt.xlabel(\"Offense Rank\")\n",
    "plt.ylabel(\"Defense Rank\")\n",
    "plt.show()"
   ]
  },
  {
   "cell_type": "markdown",
   "metadata": {},
   "source": [
    "2D scatter plot doesn't show strong clusters of tendencies. Bad defensive teams still pick offensive guys, and vice versa. Most interesting regions are top left and bottom right (the poles). Intriguingly, why do teams with great defenses not seem to have terrible offenses? This is yards allowed, after all..."
   ]
  },
  {
   "cell_type": "code",
   "execution_count": 42,
   "metadata": {
    "collapsed": false
   },
   "outputs": [
    {
     "data": {
      "image/png": "[encoded data removed]",
      "text/plain": [
       "<matplotlib.figure.Figure at 0x113af6950>"
      ]
     },
     "metadata": {},
     "output_type": "display_data"
    }
   ],
   "source": [
    "sns.set_context(\"notebook\", font_scale=1.1)\n",
    "sns.set(style=\"darkgrid\")\n",
    "#sns.lmlplot(x='Orank', y='IsOffense', data=df, logistic=True)\n",
    "sns.pairplot(df, x_vars=['Orank', 'Drank'], y_vars='IsOffense', size=7, aspect=0.7)\n",
    "plt.show()"
   ]
  },
  {
   "cell_type": "markdown",
   "metadata": {},
   "source": [
    "Maybe a logistic regression could show some tendencies. Orrrrr not. Time to split the data into training and test sets to see if machine learning can uncover anything invisible to the eye."
   ]
  },
  {
   "cell_type": "code",
   "execution_count": 44,
   "metadata": {
    "collapsed": false
   },
   "outputs": [
    {
     "data": {
      "text/plain": [
       "((149, 2), (149,))"
      ]
     },
     "execution_count": 44,
     "metadata": {},
     "output_type": "execute_result"
    }
   ],
   "source": [
    "stats = data_array[:, 1:3]\n",
    "draftpick = data_array[:,2]\n",
    "rankings=pd.DataFrame(picks, columns=['Orank', 'Drank'])\n",
    "\n",
    "X_train, X_test, y_train, y_test = cross_validation.train_test_split(rankings, draftpick, test_size=0.25, random_state=0)\n",
    "\n",
    "X_train.shape, y_train.shape\n"
   ]
  },
  {
   "cell_type": "markdown",
   "metadata": {},
   "source": [
    "I like the thought of a KNN approach here. Though a pattern doesn't seem too apparent from the 2D scatter plot above, local clustering could be predictive. Or, general probability (3/5 might not be very obvious visually, but could be useful for modeling)..."
   ]
  },
  {
   "cell_type": "code",
   "execution_count": 46,
   "metadata": {
    "collapsed": false
   },
   "outputs": [
    {
     "data": {
      "text/plain": [
       "0.56000000000000005"
      ]
     },
     "execution_count": 46,
     "metadata": {},
     "output_type": "execute_result"
    }
   ],
   "source": [
    "n_neighbors = 5\n",
    "#cmap_light = ListedColormap(['#FFAAAA', '#AAFFAA'])\n",
    "#cmap_bold = ListedColormap(['#FF0000', '#00FF00'])\n",
    "#nbrs = NearestNeighbors(n_neighbors=n_neighbors,algorithm='ball_tree').fit(X_train)\n",
    "clf = neighbors.KNeighborsClassifier(n_neighbors, weights='distance')\n",
    "clf.fit(X_train, y_train)\n",
    "clf.score(X_test, y_test) "
   ]
  },
  {
   "cell_type": "markdown",
   "metadata": {},
   "source": [
    "Well that's not very good. After playing with the number of nearest neighbors, it's pretty apparent that this isn't a much more useful approach than flipping a coin."
   ]
  },
  {
   "cell_type": "code",
   "execution_count": 47,
   "metadata": {
    "collapsed": false
   },
   "outputs": [
    {
     "data": {
      "text/plain": [
       "array([ 1.])"
      ]
     },
     "execution_count": 47,
     "metadata": {},
     "output_type": "execute_result"
    }
   ],
   "source": [
    "clf.predict([[10, 1]])"
   ]
  },
  {
   "cell_type": "code",
   "execution_count": 48,
   "metadata": {
    "collapsed": false
   },
   "outputs": [
    {
     "data": {
      "text/plain": [
       "0.57718120805369133"
      ]
     },
     "execution_count": 48,
     "metadata": {},
     "output_type": "execute_result"
    }
   ],
   "source": [
    "model = LogisticRegression()\n",
    "model = model.fit(X_train, y_train)\n",
    "model.score(X_train, y_train)\n"
   ]
  },
  {
   "cell_type": "markdown",
   "metadata": {
    "collapsed": true
   },
   "source": [
    "Overall, it looks like logistic regression is SLIGHTLY better than KNN. Nevertheless, about the best I can get is 60% accuracy (usually by dropping defense from the model, oddly. Maybe teams are more sensitive to total yard shortcomings on the offensive side of the ball)."
   ]
  },
  {
   "cell_type": "markdown",
   "metadata": {},
   "source": [
    "#### To Do:\n",
    "1. Augment dataset to increase sampling. Could reduce stochasticity in data.\n",
    "2. Slice statistics to a more granular level (passing yards, rushing yards, tackles, turnovers). Skeptical about the ROI here, though.\n",
    "3. Look at \"expert predictions\". There's a lot that this method ignores: free agency, retirement, devastating injuries, etc., that could influence the way a team will pick. \n",
    "4. Add which draft pick the team had to the data set. Does the model hold up better for the first few picks, and then fall apart when teams start taking the best remaining player, regardless of need?"
   ]
  },
  {
   "cell_type": "code",
   "execution_count": null,
   "metadata": {
    "collapsed": true
   },
   "outputs": [],
   "source": []
  }
 ],
 "metadata": {
  "kernelspec": {
   "display_name": "Python 2",
   "language": "python",
   "name": "python2"
  },
  "language_info": {
   "codemirror_mode": {
    "name": "ipython",
    "version": 2
   },
   "file_extension": ".py",
   "mimetype": "text/x-python",
   "name": "python",
   "nbconvert_exporter": "python",
   "pygments_lexer": "ipython2",
   "version": "2.7.11"
  }
 },
 "nbformat": 4,
 "nbformat_minor": 0
}
