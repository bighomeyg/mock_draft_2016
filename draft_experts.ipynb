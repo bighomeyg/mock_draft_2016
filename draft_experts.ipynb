{
 "cells": [
  {
   "cell_type": "markdown",
   "metadata": {},
   "source": [
    "# Mock Draft 2016\n",
    "\n",
    "### Analyzing and modleing from the \"expert\" predictions"
   ]
  },
  {
   "cell_type": "code",
   "execution_count": 3,
   "metadata": {
    "collapsed": false
   },
   "outputs": [
    {
     "name": "stderr",
     "output_type": "stream",
     "text": [
      "/opt/local/Library/Frameworks/Python.framework/Versions/2.7/lib/python2.7/site-packages/matplotlib/font_manager.py:273: UserWarning: Matplotlib is building the font cache using fc-list. This may take a moment.\n",
      "  warnings.warn('Matplotlib is building the font cache using fc-list. This may take a moment.')\n"
     ]
    }
   ],
   "source": [
    "%matplotlib inline\n",
    "\n",
    "import numpy as np\n",
    "import pandas as pd\n",
    "import seaborn as sns\n",
    "import matplotlib.pyplot as plt\n",
    "from sklearn import cross_validation\n",
    "from sklearn import svm\n",
    "from sklearn.neighbors import NearestNeighbors\n",
    "from sklearn.ensemble import RandomForestClassifier \n",
    "from sklearn.linear_model import LogisticRegression\n",
    "from sklearn.cross_validation import cross_val_score\n",
    "from sklearn import preprocessing\n",
    "from sklearn.neighbors import KNeighborsClassifier\n",
    "from pandas import DataFrame\n",
    "from sklearn import feature_selection"
   ]
  },
  {
   "cell_type": "markdown",
   "metadata": {},
   "source": [
    "Data is compiled in a .csv file containing first round draft predictions from ESPN (Todd McShay and/or Mel Kiper), Bleacher Report, and Walter Football."
   ]
  },
  {
   "cell_type": "markdown",
   "metadata": {},
   "source": [
    "#### First, which \"expert\" has been the most accurate over the past 10 years?"
   ]
  },
  {
   "cell_type": "code",
   "execution_count": 6,
   "metadata": {
    "collapsed": false
   },
   "outputs": [
    {
     "name": "stdout",
     "output_type": "stream",
     "text": [
      "ESPN:\t\t0.698039215686\n",
      "BleacherReport:\t0.635294117647\n",
      "WalterFootball:\t0.666666666667\n"
     ]
    }
   ],
   "source": [
    "with open(\"draft_mock_plus_stats.csv\") as f:\n",
    "    next(f)\n",
    "    espn=0\n",
    "    br=0\n",
    "    wf=0\n",
    "    total=0\n",
    "    for line in f:\n",
    "        if line.split(\",\")[6].strip() != \"\":\n",
    "            total+=1\n",
    "            if line.split(\",\")[2].strip() == line.split(\",\")[6].strip():\n",
    "                espn+=1\n",
    "            if line.split(\",\")[3].strip() == line.split(\",\")[6].strip():\n",
    "                br+=1\n",
    "            if line.split(\",\")[4].strip() == line.split(\",\")[6].strip():\n",
    "                wf+=1\n",
    "print \"ESPN:\\t\\t\", float(espn)/float(total)\n",
    "print \"BleacherReport:\\t\", float(br)/float(total)\n",
    "print \"WalterFootball:\\t\", float(wf)/float(total)"
   ]
  },
  {
   "cell_type": "code",
   "execution_count": 7,
   "metadata": {
    "collapsed": false
   },
   "outputs": [
    {
     "data": {
      "text/html": [
       "<div>\n",
       "<table border=\"1\" class=\"dataframe\">\n",
       "  <thead>\n",
       "    <tr style=\"text-align: right;\">\n",
       "      <th></th>\n",
       "      <th>Team</th>\n",
       "      <th>Year</th>\n",
       "      <th>ESPN</th>\n",
       "      <th>BleacherReport</th>\n",
       "      <th>WalterFootball</th>\n",
       "      <th>OffensiveBias</th>\n",
       "      <th>IsOffense</th>\n",
       "    </tr>\n",
       "  </thead>\n",
       "  <tbody>\n",
       "    <tr>\n",
       "      <th>0</th>\n",
       "      <td>Arizona Cardinals</td>\n",
       "      <td>2006</td>\n",
       "      <td>1.0</td>\n",
       "      <td>1.0</td>\n",
       "      <td>1.0</td>\n",
       "      <td>-11</td>\n",
       "      <td>1.0</td>\n",
       "    </tr>\n",
       "    <tr>\n",
       "      <th>1</th>\n",
       "      <td>Atlanta Falcons</td>\n",
       "      <td>2006</td>\n",
       "      <td>1.0</td>\n",
       "      <td>0.0</td>\n",
       "      <td>0.0</td>\n",
       "      <td>-10</td>\n",
       "      <td>0.0</td>\n",
       "    </tr>\n",
       "    <tr>\n",
       "      <th>2</th>\n",
       "      <td>Baltimore Ravens</td>\n",
       "      <td>2006</td>\n",
       "      <td>1.0</td>\n",
       "      <td>1.0</td>\n",
       "      <td>0.0</td>\n",
       "      <td>16</td>\n",
       "      <td>1.0</td>\n",
       "    </tr>\n",
       "    <tr>\n",
       "      <th>3</th>\n",
       "      <td>Buffalo Bills</td>\n",
       "      <td>2006</td>\n",
       "      <td>0.0</td>\n",
       "      <td>0.0</td>\n",
       "      <td>0.0</td>\n",
       "      <td>12</td>\n",
       "      <td>1.0</td>\n",
       "    </tr>\n",
       "    <tr>\n",
       "      <th>4</th>\n",
       "      <td>Carolina Panthers</td>\n",
       "      <td>2006</td>\n",
       "      <td>0.0</td>\n",
       "      <td>0.0</td>\n",
       "      <td>0.0</td>\n",
       "      <td>17</td>\n",
       "      <td>0.0</td>\n",
       "    </tr>\n",
       "  </tbody>\n",
       "</table>\n",
       "</div>"
      ],
      "text/plain": [
       "                Team  Year  ESPN  BleacherReport  WalterFootball  \\\n",
       "0  Arizona Cardinals  2006   1.0             1.0             1.0   \n",
       "1    Atlanta Falcons  2006   1.0             0.0             0.0   \n",
       "2   Baltimore Ravens  2006   1.0             1.0             0.0   \n",
       "3      Buffalo Bills  2006   0.0             0.0             0.0   \n",
       "4  Carolina Panthers  2006   0.0             0.0             0.0   \n",
       "\n",
       "   OffensiveBias  IsOffense  \n",
       "0            -11        1.0  \n",
       "1            -10        0.0  \n",
       "2             16        1.0  \n",
       "3             12        1.0  \n",
       "4             17        0.0  "
      ]
     },
     "execution_count": 7,
     "metadata": {},
     "output_type": "execute_result"
    }
   ],
   "source": [
    "pd.read_csv(\"draft_mock_plus_stats.csv\").head()"
   ]
  },
  {
   "cell_type": "markdown",
   "metadata": {},
   "source": [
    "Load in the relevant data and omit teams with no first round draft pick from the model:"
   ]
  },
  {
   "cell_type": "code",
   "execution_count": 8,
   "metadata": {
    "collapsed": false
   },
   "outputs": [
    {
     "name": "stdout",
     "output_type": "stream",
     "text": [
      "                Team  Year  ESPN  BleacherReport  WalterFootball  \\\n",
      "0  Arizona Cardinals  2006   1.0             1.0             1.0   \n",
      "1    Atlanta Falcons  2006   1.0             0.0             0.0   \n",
      "2   Baltimore Ravens  2006   1.0             1.0             0.0   \n",
      "3      Buffalo Bills  2006   0.0             0.0             0.0   \n",
      "4  Carolina Panthers  2006   0.0             0.0             0.0   \n",
      "\n",
      "   OffensiveBias  IsOffense  \n",
      "0            -11        1.0  \n",
      "1            -10        0.0  \n",
      "2             16        1.0  \n",
      "3             12        1.0  \n",
      "4             17        0.0  \n"
     ]
    }
   ],
   "source": [
    "all_teams=pd.read_csv(\"draft_mock_plus_stats.csv\")\n",
    "picks=all_teams.dropna(subset=['IsOffense'])\n",
    "print picks.head()"
   ]
  },
  {
   "cell_type": "code",
   "execution_count": 9,
   "metadata": {
    "collapsed": false
   },
   "outputs": [],
   "source": [
    "df = pd.DataFrame(picks)\n",
    "#print df\n",
    "data_array = df.as_matrix()"
   ]
  },
  {
   "cell_type": "code",
   "execution_count": 10,
   "metadata": {
    "collapsed": false
   },
   "outputs": [
    {
     "name": "stdout",
     "output_type": "stream",
     "text": [
      "(255, 3)\n",
      "(255,)\n"
     ]
    },
    {
     "data": {
      "text/plain": [
       "((191, 3), (191,))"
      ]
     },
     "execution_count": 10,
     "metadata": {},
     "output_type": "execute_result"
    }
   ],
   "source": [
    "exp_preds = data_array[:289, 2:5]\n",
    "#print exp_preds\n",
    "actual_pick = data_array[:289,6]\n",
    "exp_preds = pd.DataFrame(exp_preds, columns=['ESPN', 'BeacherReport', 'WalterFootball'])\n",
    "\n",
    "print exp_preds.shape\n",
    "print actual_pick.shape\n",
    "\n",
    "X_train, X_test, y_train, y_test = cross_validation.train_test_split(exp_preds, actual_pick, test_size=0.25, random_state=3)\n",
    "\n",
    "X_train.shape, y_train.shape\n"
   ]
  },
  {
   "cell_type": "code",
   "execution_count": null,
   "metadata": {
    "collapsed": true
   },
   "outputs": [],
   "source": []
  },
  {
   "cell_type": "markdown",
   "metadata": {},
   "source": [
    "### Logistic Regression"
   ]
  },
  {
   "cell_type": "code",
   "execution_count": 11,
   "metadata": {
    "collapsed": false
   },
   "outputs": [
    {
     "name": "stdout",
     "output_type": "stream",
     "text": [
      "[ 0.61538462  0.84615385  0.61538462  0.80769231  0.65384615  0.73076923\n",
      "  0.8         0.68        0.64        0.75      ]\n",
      "0.713923076923\n"
     ]
    }
   ],
   "source": [
    "logreg1 = LogisticRegression()\n",
    "scores=cross_val_score(logreg1, exp_preds, np.array(actual_pick.astype(int)), cv=10, scoring='accuracy')\n",
    "print scores\n",
    "print scores.mean()"
   ]
  },
  {
   "cell_type": "code",
   "execution_count": 12,
   "metadata": {
    "collapsed": false
   },
   "outputs": [
    {
     "name": "stdout",
     "output_type": "stream",
     "text": [
      "0.706806282723\n",
      "[0]\n"
     ]
    }
   ],
   "source": [
    "logreg_model = logreg1.fit(X_train, y_train.astype(int))\n",
    "print logreg_model.score(X_train, y_train.astype(int))\n",
    "print logreg_model.predict([[0,0,1]])\n",
    "#print logreg_model.predict([[0,1,0]])\n",
    "#print logreg_model.predict([[0,0,1]])\n",
    "#print logreg_model.predict([[0,1,1]])"
   ]
  },
  {
   "cell_type": "markdown",
   "metadata": {},
   "source": [
    "### Random Forest\n"
   ]
  },
  {
   "cell_type": "code",
   "execution_count": 13,
   "metadata": {
    "collapsed": false
   },
   "outputs": [
    {
     "name": "stdout",
     "output_type": "stream",
     "text": [
      "[ 0.61538462  0.84615385  0.61538462  0.69230769  0.57692308  0.73076923\n",
      "  0.8         0.64        0.64        0.75      ]\n",
      "0.690692307692\n"
     ]
    }
   ],
   "source": [
    "rf_model1 = RandomForestClassifier()\n",
    "scores=cross_val_score(rf_model1, exp_preds, np.array(actual_pick.astype(int)), cv=10, scoring='accuracy')\n",
    "#rf_model = rf_model.fit(X_train, y_train)\n",
    "print scores\n",
    "print scores.mean()"
   ]
  },
  {
   "cell_type": "markdown",
   "metadata": {},
   "source": [
    "### Support Vector Machine"
   ]
  },
  {
   "cell_type": "code",
   "execution_count": 14,
   "metadata": {
    "collapsed": false
   },
   "outputs": [
    {
     "name": "stdout",
     "output_type": "stream",
     "text": [
      "[ 0.65384615  0.80769231  0.61538462  0.73076923  0.57692308  0.65384615\n",
      "  0.72        0.64        0.64        0.70833333]\n",
      "0.674679487179\n"
     ]
    }
   ],
   "source": [
    "svm_model1=svm.SVC()\n",
    "scores=cross_val_score(svm_model1, exp_preds, np.array(actual_pick.astype(int)), cv=10, scoring='accuracy')\n",
    "print scores\n",
    "print scores.mean()"
   ]
  },
  {
   "cell_type": "code",
   "execution_count": 15,
   "metadata": {
    "collapsed": false
   },
   "outputs": [
    {
     "data": {
      "text/plain": [
       "(array([ 46.23426093,  19.66577474,  30.79121339]),\n",
       " array([  7.51483288e-11,   1.37627386e-05,   7.23761167e-08]))"
      ]
     },
     "execution_count": 15,
     "metadata": {},
     "output_type": "execute_result"
    }
   ],
   "source": [
    "feature_selection.f_classif(exp_preds, np.array(actual_pick.astype(int)))"
   ]
  },
  {
   "cell_type": "markdown",
   "metadata": {},
   "source": [
    "### K-Nearest Neighbors"
   ]
  },
  {
   "cell_type": "code",
   "execution_count": 16,
   "metadata": {
    "collapsed": false
   },
   "outputs": [
    {
     "name": "stdout",
     "output_type": "stream",
     "text": [
      "[0.61575641025641015, 0.61607692307692308, 0.59251282051282061, 0.63623076923076927, 0.62838461538461532, 0.68700000000000006, 0.64746153846153842, 0.67146153846153844, 0.66761538461538461, 0.68315384615384622, 0.66376923076923078, 0.69069230769230761, 0.70623076923076922, 0.69469230769230772, 0.68284615384615388, 0.68284615384615388, 0.69053846153846155, 0.68284615384615388, 0.69038461538461537, 0.67052564102564094, 0.67837179487179489, 0.70191025641025639, 0.69038461538461537, 0.69438461538461538, 0.68638461538461537, 0.69038461538461537, 0.68621794871794872, 0.69038461538461537, 0.69775641025641022, 0.69038461538461537, 0.69775641025641022, 0.69021794871794862, 0.68621794871794872, 0.68621794871794872, 0.68621794871794872, 0.69791025641025628, 0.69391025641025639, 0.69391025641025639, 0.68621794871794872, 0.69021794871794862, 0.68621794871794872, 0.68621794871794872, 0.69391025641025639, 0.68621794871794872, 0.68621794871794872, 0.68621794871794872, 0.68621794871794872, 0.69021794871794862, 0.69021794871794862, 0.69021794871794862]\n"
     ]
    }
   ],
   "source": [
    "k_range=range(1,51)\n",
    "k_scores1=[]\n",
    "for k in k_range:\n",
    "    knn1 = KNeighborsClassifier(n_neighbors=k)\n",
    "    scores=cross_val_score(knn1, exp_preds, np.array(actual_pick.astype(int)), cv=10, scoring='accuracy')\n",
    "    k_scores1.append(scores.mean())\n",
    "print k_scores1\n",
    "avg_kscore = sum(k_scores1)/len(k_scores1)\n"
   ]
  },
  {
   "cell_type": "code",
   "execution_count": 17,
   "metadata": {
    "collapsed": false
   },
   "outputs": [
    {
     "data": {
      "image/png": "[encoded data removed]",
      "text/plain": [
       "<matplotlib.figure.Figure at 0x10c80a890>"
      ]
     },
     "metadata": {},
     "output_type": "display_data"
    }
   ],
   "source": [
    "plt.plot(k_range, k_scores1)\n",
    "plt.show()"
   ]
  },
  {
   "cell_type": "markdown",
   "metadata": {},
   "source": [
    "#### Max accuracy at k=13"
   ]
  },
  {
   "cell_type": "code",
   "execution_count": 18,
   "metadata": {
    "collapsed": false
   },
   "outputs": [
    {
     "name": "stdout",
     "output_type": "stream",
     "text": [
      "0.722513089005\n",
      "[0]\n",
      "[ 0.61538462  0.80769231  0.61538462  0.84615385  0.57692308  0.73076923\n",
      "  0.76        0.68        0.68        0.75      ]\n",
      "0.706230769231\n"
     ]
    }
   ],
   "source": [
    "\n",
    "\n",
    "knn1 = KNeighborsClassifier(n_neighbors=13)\n",
    "knn_model1 = knn1.fit(X_train, y_train.astype(int))\n",
    "print knn_model1.score(X_train, y_train.astype(int))\n",
    "print knn_model1.predict([[1,0,0]])\n",
    "\n",
    "\n",
    "scores=cross_val_score(knn_model1, exp_preds, np.array(actual_pick.astype(int)), cv=10, scoring='accuracy')\n",
    "print scores\n",
    "print scores.mean()"
   ]
  },
  {
   "cell_type": "code",
   "execution_count": 19,
   "metadata": {
    "collapsed": false
   },
   "outputs": [
    {
     "data": {
      "text/plain": [
       "(array([ 46.23426093,  19.66577474,  30.79121339]),\n",
       " array([  7.51483288e-11,   1.37627386e-05,   7.23761167e-08]))"
      ]
     },
     "execution_count": 19,
     "metadata": {},
     "output_type": "execute_result"
    }
   ],
   "source": [
    "feature_selection.f_classif(exp_preds, np.array(actual_pick.astype(int)))"
   ]
  },
  {
   "cell_type": "markdown",
   "metadata": {},
   "source": [
    "## Now what happens to accuracy when we also consider stats from previous season?"
   ]
  },
  {
   "cell_type": "code",
   "execution_count": 20,
   "metadata": {
    "collapsed": false
   },
   "outputs": [
    {
     "name": "stdout",
     "output_type": "stream",
     "text": [
      "(255, 4)\n",
      "(255,)\n"
     ]
    },
    {
     "data": {
      "text/plain": [
       "((191, 4), (191,))"
      ]
     },
     "execution_count": 20,
     "metadata": {},
     "output_type": "execute_result"
    }
   ],
   "source": [
    "exp_preds_and_stats = data_array[:289, 2:6]\n",
    "actual_pick = data_array[:289,6]\n",
    "exp_preds_and_stats = pd.DataFrame(exp_preds_and_stats, columns=['ESPN', 'BeacherReport', 'WalterFootball', 'OffensiveBias'])\n",
    "#print exp_preds_and_stats\n",
    "\n",
    "print exp_preds_and_stats.shape\n",
    "print actual_pick.shape\n",
    "\n",
    "\n",
    "X_train, X_test, y_train, y_test = cross_validation.train_test_split(exp_preds_and_stats, actual_pick, test_size=0.25, random_state=3)\n",
    "\n",
    "X_train.shape, y_train.shape"
   ]
  },
  {
   "cell_type": "markdown",
   "metadata": {
    "collapsed": true
   },
   "source": [
    "### Logistic Regression"
   ]
  },
  {
   "cell_type": "code",
   "execution_count": 21,
   "metadata": {
    "collapsed": false
   },
   "outputs": [
    {
     "name": "stderr",
     "output_type": "stream",
     "text": [
      "/opt/local/Library/Frameworks/Python.framework/Versions/2.7/lib/python2.7/site-packages/sklearn/utils/validation.py:420: DataConversionWarning: Data with input dtype object was converted to float64 by the scale function.\n",
      "  warnings.warn(msg, DataConversionWarning)\n",
      "/opt/local/Library/Frameworks/Python.framework/Versions/2.7/lib/python2.7/site-packages/sklearn/utils/validation.py:420: DataConversionWarning: Data with input dtype object was converted to float64 by the scale function.\n",
      "  warnings.warn(msg, DataConversionWarning)\n"
     ]
    }
   ],
   "source": [
    "X_scaled = preprocessing.scale(exp_preds_and_stats)\n",
    "X_scaled_train = preprocessing.scale(exp_preds_and_stats)\n",
    "Y_scaled = preprocessing.scale(actual_pick)\n",
    "Y_scaled_train = preprocessing.scale(actual_pick)\n",
    "\n",
    "#print X_scaled"
   ]
  },
  {
   "cell_type": "code",
   "execution_count": 22,
   "metadata": {
    "collapsed": false
   },
   "outputs": [
    {
     "name": "stdout",
     "output_type": "stream",
     "text": [
      "[ 0.61538462  0.84615385  0.69230769  0.84615385  0.65384615  0.65384615\n",
      "  0.8         0.56        0.64        0.625     ]\n",
      "0.693269230769\n"
     ]
    }
   ],
   "source": [
    "logreg2 = LogisticRegression()\n",
    "scores=cross_val_score(logreg2, X_scaled, np.array(Y_scaled.astype(int)), cv=10, scoring='accuracy')\n",
    "print scores\n",
    "print scores.mean()"
   ]
  },
  {
   "cell_type": "code",
   "execution_count": 23,
   "metadata": {
    "collapsed": false
   },
   "outputs": [
    {
     "name": "stdout",
     "output_type": "stream",
     "text": [
      "[0]\n"
     ]
    }
   ],
   "source": [
    "logreg_model2 = logreg2.fit(X_scaled, Y_scaled.astype(int))\n",
    "print logreg_model2.predict([[0,0,0,0]])\n"
   ]
  },
  {
   "cell_type": "markdown",
   "metadata": {
    "collapsed": true
   },
   "source": [
    "### Random Forest"
   ]
  },
  {
   "cell_type": "code",
   "execution_count": 24,
   "metadata": {
    "collapsed": false
   },
   "outputs": [
    {
     "name": "stdout",
     "output_type": "stream",
     "text": [
      "[ 0.65384615  0.5         0.53846154  0.57692308  0.73076923  0.61538462\n",
      "  0.6         0.64        0.52        0.66666667]\n",
      "0.604205128205\n"
     ]
    }
   ],
   "source": [
    "rf_model2 = RandomForestClassifier()\n",
    "scores=cross_val_score(rf_model2, X_scaled, np.array(Y_scaled.astype(int)), cv=10, scoring='accuracy')\n",
    "print scores\n",
    "print scores.mean()"
   ]
  },
  {
   "cell_type": "markdown",
   "metadata": {},
   "source": [
    "### Support Vector Machine"
   ]
  },
  {
   "cell_type": "code",
   "execution_count": 25,
   "metadata": {
    "collapsed": false
   },
   "outputs": [
    {
     "name": "stdout",
     "output_type": "stream",
     "text": [
      "[ 0.65384615  0.76923077  0.61538462  0.69230769  0.57692308  0.69230769\n",
      "  0.8         0.6         0.64        0.66666667]\n",
      "0.670666666667\n"
     ]
    }
   ],
   "source": [
    "svm_model2=svm.SVC()\n",
    "scores=cross_val_score(svm_model2, X_scaled, np.array(Y_scaled.astype(int)), cv=10, scoring='accuracy')\n",
    "print scores\n",
    "print scores.mean()"
   ]
  },
  {
   "cell_type": "markdown",
   "metadata": {},
   "source": [
    "### K-Nearest Neighbors\n"
   ]
  },
  {
   "cell_type": "code",
   "execution_count": 26,
   "metadata": {
    "collapsed": false
   },
   "outputs": [
    {
     "name": "stdout",
     "output_type": "stream",
     "text": [
      "[0.58803846153846151, 0.62742307692307686, 0.64230769230769225, 0.61555128205128207, 0.63879487179487171, 0.65512820512820513, 0.65898717948717944, 0.67867948717948712, 0.67098717948717934, 0.68605128205128207, 0.66282051282051291, 0.69821794871794873, 0.670679487179487, 0.68652564102564095, 0.6591410256410255, 0.67483333333333317, 0.67051282051282046, 0.68637179487179478, 0.67820512820512824, 0.67452564102564094, 0.6858974358974359, 0.68621794871794861, 0.67820512820512824, 0.68621794871794861, 0.68205128205128207, 0.69775641025641022, 0.68989743589743591, 0.68989743589743591, 0.67805128205128207, 0.68205128205128207, 0.68205128205128207, 0.67820512820512824, 0.69391025641025628, 0.68621794871794861, 0.68621794871794861, 0.69823076923076921, 0.69823076923076921, 0.69791025641025628, 0.69791025641025628, 0.69389743589743591, 0.6903717948717949, 0.69821794871794862, 0.69421794871794873, 0.69437179487179479, 0.69821794871794862, 0.70206410256410245, 0.69421794871794873, 0.69806410256410245, 0.69806410256410256, 0.70191025641025639]\n"
     ]
    }
   ],
   "source": [
    "k_range=range(1,51)\n",
    "k_scores=[]\n",
    "for k in k_range:\n",
    "    knn2 = KNeighborsClassifier(n_neighbors=k)\n",
    "    scores=cross_val_score(knn2, X_scaled, np.array(Y_scaled.astype(int)), cv=10, scoring='accuracy')\n",
    "    k_scores.append(scores.mean())\n",
    "print k_scores\n",
    "avg_kscore = sum(k_scores)/len(k_scores)\n"
   ]
  },
  {
   "cell_type": "code",
   "execution_count": 27,
   "metadata": {
    "collapsed": false
   },
   "outputs": [
    {
     "data": {
      "image/png": "[encoded data removed]",
      "text/plain": [
       "<matplotlib.figure.Figure at 0x10ca5acd0>"
      ]
     },
     "metadata": {},
     "output_type": "display_data"
    }
   ],
   "source": [
    "plt.figure(figsize=(10,10))\n",
    "plt.plot(k_range, k_scores1, label='Without Team Stats')\n",
    "plt.plot(k_range, k_scores, label='With Team Stats')\n",
    "plt.xticks(fontsize=14)\n",
    "plt.xlabel('Neighbors', fontsize='28')\n",
    "plt.yticks(fontsize=14)\n",
    "plt.ylabel('Accuracy', fontsize='28')\n",
    "legend = plt.legend(loc='center right', prop={'size':16})\n",
    "plt.show()"
   ]
  },
  {
   "cell_type": "code",
   "execution_count": 28,
   "metadata": {
    "collapsed": false
   },
   "outputs": [
    {
     "data": {
      "text/plain": [
       "(array([ 46.23426093,  19.66577474,  30.79121339,   6.23221372]),\n",
       " array([  7.51483288e-11,   1.37627386e-05,   7.23761167e-08,\n",
       "          1.31816890e-02]))"
      ]
     },
     "execution_count": 28,
     "metadata": {},
     "output_type": "execute_result"
    }
   ],
   "source": [
    "feature_selection.f_classif(X_scaled, np.array(Y_scaled.astype(int)))"
   ]
  },
  {
   "cell_type": "markdown",
   "metadata": {
    "collapsed": true
   },
   "source": [
    "## Now it's time for some predictions for the first round of the 2016 draft..."
   ]
  },
  {
   "cell_type": "code",
   "execution_count": 29,
   "metadata": {
    "collapsed": false
   },
   "outputs": [
    {
     "name": "stdout",
     "output_type": "stream",
     "text": [
      "(31, 4)\n"
     ]
    }
   ],
   "source": [
    "all_teams=pd.read_csv(\"draft_mock_plus_stats.csv\")\n",
    "drafting_teams=all_teams.dropna(subset=['ESPN'])\n",
    "df = pd.DataFrame(drafting_teams)\n",
    "draft_class=df.loc[df['Year'] == 2015]\n",
    "data_array2015 = draft_class.as_matrix()\n",
    "test_set = data_array2015[:, 2:6]\n",
    "print test_set.shape"
   ]
  },
  {
   "cell_type": "markdown",
   "metadata": {},
   "source": [
    "#### First, predicting the draft with 2015 team stats included"
   ]
  },
  {
   "cell_type": "code",
   "execution_count": 30,
   "metadata": {
    "collapsed": false
   },
   "outputs": [
    {
     "name": "stdout",
     "output_type": "stream",
     "text": [
      "Arizona Cardinals \t\tDefense\n",
      "Atlanta Falcons \t\tDefense\n",
      "Baltimore Ravens \t\tOffense\n",
      "Buffalo Bills \t\tDefense\n",
      "Carolina Panthers \t\tOffense\n",
      "Chicago Bears \t\tOffense\n",
      "Cincinnati Bengals \t\tOffense\n",
      "Cleveland Browns \t\tDefense\n",
      "Dallas Cowboys \t\tOffense\n",
      "Denver Broncos \t\tOffense\n",
      "Detroit Lions \t\tOffense\n",
      "Green Bay Packers \t\tOffense\n",
      "Houston Texans \t\tOffense\n",
      "Indianapolis Colts \t\tOffense\n",
      "Jacksonville Jaguars \t\tDefense\n",
      "Kansas City Chiefs \t\tOffense\n",
      "Miami Dolphins \t\tOffense\n",
      "Minnesota Vikings \t\tOffense\n",
      "New Orleans Saints \t\tDefense\n",
      "New York Giants \t\tDefense\n",
      "New York Jets \t\tOffense\n",
      "Oakland Raiders \t\tOffense\n",
      "Philadelphia Eagles \t\tDefense\n",
      "Pittsburgh Steelers \t\tDefense\n",
      "San Diego Chargers \t\tDefense\n",
      "San Francisco 49ers \t\tOffense\n",
      "Seattle Seahawks \t\tOffense\n",
      "St. Louis Rams \t\tOffense\n",
      "Tampa Bay Buccaneers \t\tDefense\n",
      "Tennessee Titans \t\tOffense\n",
      "Washington Redskins \t\tDefense\n"
     ]
    }
   ],
   "source": [
    "for n in range(0,31):   \n",
    "    if logreg_model2.predict(test_set[n].reshape(1,-1)) == 1:\n",
    "        print data_array2015[n,0], \"\\t\\t\", \"Offense\"\n",
    "         \n",
    "    if logreg_model2.predict(test_set[n].reshape(1,-1)) == 0:\n",
    "        print data_array2015[n,0], \"\\t\\t\", \"Defense\""
   ]
  },
  {
   "cell_type": "markdown",
   "metadata": {},
   "source": [
    "#### Now without 2015 team stats (only expert predictions)"
   ]
  },
  {
   "cell_type": "code",
   "execution_count": 34,
   "metadata": {
    "collapsed": false
   },
   "outputs": [
    {
     "name": "stdout",
     "output_type": "stream",
     "text": [
      "(31, 3)\n"
     ]
    }
   ],
   "source": [
    "all_teams=pd.read_csv(\"draft_mock_plus_stats.csv\")\n",
    "drafting_teams=all_teams.dropna(subset=['ESPN'])\n",
    "df = pd.DataFrame(drafting_teams)\n",
    "draft_class=df.loc[df['Year'] == 2015]\n",
    "\n",
    "data_array2015 = draft_class.as_matrix()\n",
    "test_set_no_stats = data_array2015[:, 2:5]\n",
    "print test_set_no_stats.shape"
   ]
  },
  {
   "cell_type": "code",
   "execution_count": 37,
   "metadata": {
    "collapsed": false
   },
   "outputs": [
    {
     "name": "stdout",
     "output_type": "stream",
     "text": [
      "Arizona Cardinals \t\tOffense\n",
      "Atlanta Falcons \t\tDefense\n",
      "Baltimore Ravens \t\tDefense\n",
      "Buffalo Bills \t\tDefense\n",
      "Carolina Panthers \t\tDefense\n",
      "Chicago Bears \t\tOffense\n",
      "Cincinnati Bengals \t\tDefense\n",
      "Cleveland Browns \t\tDefense\n",
      "Dallas Cowboys \t\tDefense\n",
      "Denver Broncos \t\tDefense\n",
      "Detroit Lions \t\tDefense\n",
      "Green Bay Packers \t\tDefense\n",
      "Houston Texans \t\tOffense\n",
      "Indianapolis Colts \t\tDefense\n",
      "Jacksonville Jaguars \t\tDefense\n",
      "Kansas City Chiefs \t\tOffense\n",
      "Miami Dolphins \t\tDefense\n",
      "Minnesota Vikings \t\tDefense\n",
      "New Orleans Saints \t\tDefense\n",
      "New York Giants \t\tDefense\n",
      "New York Jets \t\tDefense\n",
      "Oakland Raiders \t\tDefense\n",
      "Philadelphia Eagles \t\tOffense\n",
      "Pittsburgh Steelers \t\tDefense\n",
      "San Diego Chargers \t\tOffense\n",
      "San Francisco 49ers \t\tDefense\n",
      "Seattle Seahawks \t\tOffense\n",
      "St. Louis Rams \t\tOffense\n",
      "Tampa Bay Buccaneers \t\tDefense\n",
      "Tennessee Titans \t\tDefense\n",
      "Washington Redskins \t\tDefense\n"
     ]
    }
   ],
   "source": [
    "#print test_set_no_stats\n",
    "for n in range(0,31):   \n",
    "    if knn_model1.predict(test_set_no_stats[n].reshape(1,-1)) == 1:\n",
    "        print data_array2015[n, 0], \"\\t\\t\", \"Offense\"\n",
    "    if knn_model1.predict(test_set_no_stats[n].reshape(1,-1)) == 0:\n",
    "        print data_array2015[n, 0], \"\\t\\t\", \"Defense\"\n"
   ]
  },
  {
   "cell_type": "code",
   "execution_count": null,
   "metadata": {
    "collapsed": true
   },
   "outputs": [],
   "source": []
  }
 ],
 "metadata": {
  "kernelspec": {
   "display_name": "Python 2",
   "language": "python",
   "name": "python2"
  },
  "language_info": {
   "codemirror_mode": {
    "name": "ipython",
    "version": 2
   },
   "file_extension": ".py",
   "mimetype": "text/x-python",
   "name": "python",
   "nbconvert_exporter": "python",
   "pygments_lexer": "ipython2",
   "version": "2.7.11"
  }
 },
 "nbformat": 4,
 "nbformat_minor": 0
}
