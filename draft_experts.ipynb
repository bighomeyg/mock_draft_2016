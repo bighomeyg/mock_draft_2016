{
 "cells": [
  {
   "cell_type": "markdown",
   "metadata": {},
   "source": [
    "# Mock Draft 2016\n",
    "\n",
    "### Analyzing and modleing from the \"expert\" predictions"
   ]
  },
  {
   "cell_type": "code",
   "execution_count": 2,
   "metadata": {
    "collapsed": false
   },
   "outputs": [],
   "source": [
    "%matplotlib inline\n",
    "\n",
    "import numpy as np\n",
    "import pandas as pd\n",
    "import seaborn as sns\n",
    "import matplotlib.pyplot as plt\n",
    "from sklearn import cross_validation\n",
    "from sklearn import svm\n",
    "from sklearn.neighbors import NearestNeighbors\n",
    "from sklearn.ensemble import RandomForestClassifier \n",
    "from sklearn.linear_model import LogisticRegression\n",
    "from sklearn.cross_validation import cross_val_score\n",
    "from sklearn import preprocessing\n",
    "from sklearn.neighbors import KNeighborsClassifier\n",
    "from pandas import DataFrame\n",
    "from sklearn import feature_selection"
   ]
  },
  {
   "cell_type": "markdown",
   "metadata": {},
   "source": [
    "Data is compiled in a .csv file containing first round draft predictions from ESPN (Todd McShay and/or Mel Kiper), Bleacher Report, and Walter Football."
   ]
  },
  {
   "cell_type": "markdown",
   "metadata": {},
   "source": [
    "#### First, which \"expert\" has been the most accurate over the past 10 years?"
   ]
  },
  {
   "cell_type": "code",
   "execution_count": 3,
   "metadata": {
    "collapsed": false
   },
   "outputs": [
    {
     "name": "stdout",
     "output_type": "stream",
     "text": [
      "ESPN:\t\t0.698039215686\n",
      "BleacherReport:\t0.635294117647\n",
      "WalterFootball:\t0.666666666667\n"
     ]
    }
   ],
   "source": [
    "with open(\"draft_mock_plus_stats.csv\") as f:\n",
    "    next(f)\n",
    "    espn=0\n",
    "    br=0\n",
    "    wf=0\n",
    "    total=0\n",
    "    for line in f:\n",
    "        if line.split(\",\")[6].strip() != \"\":\n",
    "            total+=1\n",
    "            if line.split(\",\")[2].strip() == line.split(\",\")[6].strip():\n",
    "                espn+=1\n",
    "            if line.split(\",\")[3].strip() == line.split(\",\")[6].strip():\n",
    "                br+=1\n",
    "            if line.split(\",\")[4].strip() == line.split(\",\")[6].strip():\n",
    "                wf+=1\n",
    "print \"ESPN:\\t\\t\", float(espn)/float(total)\n",
    "print \"BleacherReport:\\t\", float(br)/float(total)\n",
    "print \"WalterFootball:\\t\", float(wf)/float(total)"
   ]
  },
  {
   "cell_type": "code",
   "execution_count": 4,
   "metadata": {
    "collapsed": false
   },
   "outputs": [
    {
     "data": {
      "text/html": [
       "<div>\n",
       "<table border=\"1\" class=\"dataframe\">\n",
       "  <thead>\n",
       "    <tr style=\"text-align: right;\">\n",
       "      <th></th>\n",
       "      <th>Team</th>\n",
       "      <th>Year</th>\n",
       "      <th>ESPN</th>\n",
       "      <th>BleacherReport</th>\n",
       "      <th>WalterFootball</th>\n",
       "      <th>OffensiveBias</th>\n",
       "      <th>IsOffense</th>\n",
       "    </tr>\n",
       "  </thead>\n",
       "  <tbody>\n",
       "    <tr>\n",
       "      <th>0</th>\n",
       "      <td>Arizona Cardinals</td>\n",
       "      <td>2006</td>\n",
       "      <td>1.0</td>\n",
       "      <td>1.0</td>\n",
       "      <td>1.0</td>\n",
       "      <td>-11</td>\n",
       "      <td>1.0</td>\n",
       "    </tr>\n",
       "    <tr>\n",
       "      <th>1</th>\n",
       "      <td>Atlanta Falcons</td>\n",
       "      <td>2006</td>\n",
       "      <td>1.0</td>\n",
       "      <td>0.0</td>\n",
       "      <td>0.0</td>\n",
       "      <td>-10</td>\n",
       "      <td>0.0</td>\n",
       "    </tr>\n",
       "    <tr>\n",
       "      <th>2</th>\n",
       "      <td>Baltimore Ravens</td>\n",
       "      <td>2006</td>\n",
       "      <td>1.0</td>\n",
       "      <td>1.0</td>\n",
       "      <td>0.0</td>\n",
       "      <td>16</td>\n",
       "      <td>1.0</td>\n",
       "    </tr>\n",
       "    <tr>\n",
       "      <th>3</th>\n",
       "      <td>Buffalo Bills</td>\n",
       "      <td>2006</td>\n",
       "      <td>0.0</td>\n",
       "      <td>0.0</td>\n",
       "      <td>0.0</td>\n",
       "      <td>12</td>\n",
       "      <td>1.0</td>\n",
       "    </tr>\n",
       "    <tr>\n",
       "      <th>4</th>\n",
       "      <td>Carolina Panthers</td>\n",
       "      <td>2006</td>\n",
       "      <td>0.0</td>\n",
       "      <td>0.0</td>\n",
       "      <td>0.0</td>\n",
       "      <td>17</td>\n",
       "      <td>0.0</td>\n",
       "    </tr>\n",
       "  </tbody>\n",
       "</table>\n",
       "</div>"
      ],
      "text/plain": [
       "                Team  Year  ESPN  BleacherReport  WalterFootball  \\\n",
       "0  Arizona Cardinals  2006   1.0             1.0             1.0   \n",
       "1    Atlanta Falcons  2006   1.0             0.0             0.0   \n",
       "2   Baltimore Ravens  2006   1.0             1.0             0.0   \n",
       "3      Buffalo Bills  2006   0.0             0.0             0.0   \n",
       "4  Carolina Panthers  2006   0.0             0.0             0.0   \n",
       "\n",
       "   OffensiveBias  IsOffense  \n",
       "0            -11        1.0  \n",
       "1            -10        0.0  \n",
       "2             16        1.0  \n",
       "3             12        1.0  \n",
       "4             17        0.0  "
      ]
     },
     "execution_count": 4,
     "metadata": {},
     "output_type": "execute_result"
    }
   ],
   "source": [
    "pd.read_csv(\"draft_mock_plus_stats.csv\").head()"
   ]
  },
  {
   "cell_type": "markdown",
   "metadata": {},
   "source": [
    "Load in the relevant data and omit teams with no first round draft pick from the model:"
   ]
  },
  {
   "cell_type": "code",
   "execution_count": 5,
   "metadata": {
    "collapsed": false
   },
   "outputs": [
    {
     "name": "stdout",
     "output_type": "stream",
     "text": [
      "                Team  Year  ESPN  BleacherReport  WalterFootball  \\\n",
      "0  Arizona Cardinals  2006   1.0             1.0             1.0   \n",
      "1    Atlanta Falcons  2006   1.0             0.0             0.0   \n",
      "2   Baltimore Ravens  2006   1.0             1.0             0.0   \n",
      "3      Buffalo Bills  2006   0.0             0.0             0.0   \n",
      "4  Carolina Panthers  2006   0.0             0.0             0.0   \n",
      "\n",
      "   OffensiveBias  IsOffense  \n",
      "0            -11        1.0  \n",
      "1            -10        0.0  \n",
      "2             16        1.0  \n",
      "3             12        1.0  \n",
      "4             17        0.0  \n"
     ]
    }
   ],
   "source": [
    "all_teams=pd.read_csv(\"draft_mock_plus_stats.csv\")\n",
    "picks=all_teams.dropna(subset=['IsOffense'])\n",
    "print picks.head()"
   ]
  },
  {
   "cell_type": "code",
   "execution_count": 6,
   "metadata": {
    "collapsed": false
   },
   "outputs": [],
   "source": [
    "df = pd.DataFrame(picks)\n",
    "#print df\n",
    "data_array = df.as_matrix()"
   ]
  },
  {
   "cell_type": "code",
   "execution_count": 7,
   "metadata": {
    "collapsed": false
   },
   "outputs": [
    {
     "name": "stdout",
     "output_type": "stream",
     "text": [
      "(255, 3)\n",
      "(255, 3)\n",
      "(255,)\n"
     ]
    },
    {
     "data": {
      "text/plain": [
       "((191, 3), (191,))"
      ]
     },
     "execution_count": 7,
     "metadata": {},
     "output_type": "execute_result"
    }
   ],
   "source": [
    "exp_preds = data_array[:, 2:5]\n",
    "print exp_preds.shape\n",
    "actual_pick = data_array[:,6]\n",
    "exp_preds = pd.DataFrame(exp_preds, columns=['ESPN', 'BeacherReport', 'WalterFootball'])\n",
    "\n",
    "print exp_preds.shape\n",
    "print actual_pick.shape\n",
    "\n",
    "X_train, X_test, y_train, y_test = cross_validation.train_test_split(exp_preds, actual_pick, test_size=0.25, random_state=3)\n",
    "\n",
    "X_train.shape, y_train.shape\n"
   ]
  },
  {
   "cell_type": "code",
   "execution_count": null,
   "metadata": {
    "collapsed": true
   },
   "outputs": [],
   "source": []
  },
  {
   "cell_type": "markdown",
   "metadata": {},
   "source": [
    "### Logistic Regression"
   ]
  },
  {
   "cell_type": "code",
   "execution_count": 8,
   "metadata": {
    "collapsed": false
   },
   "outputs": [
    {
     "name": "stdout",
     "output_type": "stream",
     "text": [
      "[ 0.61538462  0.84615385  0.61538462  0.80769231  0.65384615  0.73076923\n",
      "  0.8         0.68        0.64        0.75      ]\n",
      "0.713923076923\n"
     ]
    }
   ],
   "source": [
    "logreg = LogisticRegression()\n",
    "scores=cross_val_score(logreg, exp_preds, np.array(actual_pick.astype(int)), cv=10, scoring='accuracy')\n",
    "print scores\n",
    "print scores.mean()"
   ]
  },
  {
   "cell_type": "code",
   "execution_count": 9,
   "metadata": {
    "collapsed": false
   },
   "outputs": [
    {
     "name": "stdout",
     "output_type": "stream",
     "text": [
      "0.706806282723\n",
      "[0]\n"
     ]
    }
   ],
   "source": [
    "logreg_model = logreg.fit(X_train, y_train.astype(int))\n",
    "print logreg_model.score(X_train, y_train.astype(int))\n",
    "print logreg_model.predict([[0,0,1]])\n",
    "#print logreg_model.predict([[0,1,0]])\n",
    "#print logreg_model.predict([[0,0,1]])\n",
    "#print logreg_model.predict([[0,1,1]])"
   ]
  },
  {
   "cell_type": "markdown",
   "metadata": {},
   "source": [
    "### Random Forest\n"
   ]
  },
  {
   "cell_type": "code",
   "execution_count": 10,
   "metadata": {
    "collapsed": false
   },
   "outputs": [
    {
     "name": "stdout",
     "output_type": "stream",
     "text": [
      "[ 0.61538462  0.80769231  0.61538462  0.84615385  0.57692308  0.73076923\n",
      "  0.76        0.64        0.64        0.66666667]\n",
      "0.689897435897\n"
     ]
    }
   ],
   "source": [
    "rf_model = RandomForestClassifier()\n",
    "scores=cross_val_score(rf_model, exp_preds, np.array(actual_pick.astype(int)), cv=10, scoring='accuracy')\n",
    "#rf_model = rf_model.fit(X_train, y_train)\n",
    "print scores\n",
    "print scores.mean()"
   ]
  },
  {
   "cell_type": "markdown",
   "metadata": {},
   "source": [
    "### Support Vector Machine"
   ]
  },
  {
   "cell_type": "code",
   "execution_count": 11,
   "metadata": {
    "collapsed": false
   },
   "outputs": [
    {
     "name": "stdout",
     "output_type": "stream",
     "text": [
      "[ 0.65384615  0.80769231  0.61538462  0.73076923  0.57692308  0.65384615\n",
      "  0.72        0.64        0.64        0.70833333]\n",
      "0.674679487179\n"
     ]
    }
   ],
   "source": [
    "svm_model=svm.SVC()\n",
    "scores=cross_val_score(svm_model, exp_preds, np.array(actual_pick.astype(int)), cv=10, scoring='accuracy')\n",
    "print scores\n",
    "print scores.mean()"
   ]
  },
  {
   "cell_type": "code",
   "execution_count": 12,
   "metadata": {
    "collapsed": false
   },
   "outputs": [
    {
     "data": {
      "text/plain": [
       "(array([ 46.23426093,  19.66577474,  30.79121339]),\n",
       " array([  7.51483288e-11,   1.37627386e-05,   7.23761167e-08]))"
      ]
     },
     "execution_count": 12,
     "metadata": {},
     "output_type": "execute_result"
    }
   ],
   "source": [
    "feature_selection.f_classif(exp_preds, np.array(actual_pick.astype(int)))"
   ]
  },
  {
   "cell_type": "markdown",
   "metadata": {},
   "source": [
    "### K-Nearest Neighbors"
   ]
  },
  {
   "cell_type": "code",
   "execution_count": 13,
   "metadata": {
    "collapsed": false
   },
   "outputs": [
    {
     "name": "stdout",
     "output_type": "stream",
     "text": [
      "[0.61575641025641015, 0.61607692307692308, 0.59251282051282061, 0.63623076923076927, 0.62838461538461532, 0.68700000000000006, 0.64746153846153842, 0.67146153846153844, 0.66761538461538461, 0.68315384615384622, 0.66376923076923078, 0.69069230769230761, 0.70623076923076922, 0.69469230769230772, 0.68284615384615388, 0.68284615384615388, 0.69053846153846155, 0.68284615384615388, 0.69038461538461537, 0.67052564102564094, 0.67837179487179489, 0.70191025641025639, 0.69038461538461537, 0.69438461538461538, 0.68638461538461537, 0.69038461538461537, 0.68621794871794872, 0.69038461538461537, 0.69775641025641022, 0.69038461538461537, 0.69775641025641022, 0.69021794871794862, 0.68621794871794872, 0.68621794871794872, 0.68621794871794872, 0.69791025641025628, 0.69391025641025639, 0.69391025641025639, 0.68621794871794872, 0.69021794871794862, 0.68621794871794872, 0.68621794871794872, 0.69391025641025639, 0.68621794871794872, 0.68621794871794872, 0.68621794871794872, 0.68621794871794872, 0.69021794871794862, 0.69021794871794862, 0.69021794871794862]\n"
     ]
    }
   ],
   "source": [
    "k_range=range(1,51)\n",
    "k_scores1=[]\n",
    "for k in k_range:\n",
    "    knn = KNeighborsClassifier(n_neighbors=k)\n",
    "    scores=cross_val_score(knn, exp_preds, np.array(actual_pick.astype(int)), cv=10, scoring='accuracy')\n",
    "    k_scores1.append(scores.mean())\n",
    "print k_scores1\n",
    "avg_kscore = sum(k_scores1)/len(k_scores1)\n"
   ]
  },
  {
   "cell_type": "code",
   "execution_count": 14,
   "metadata": {
    "collapsed": false
   },
   "outputs": [
    {
     "data": {
      "image/png": "[encoded data removed]",
      "text/plain": [
       "<matplotlib.figure.Figure at 0x107d81290>"
      ]
     },
     "metadata": {},
     "output_type": "display_data"
    }
   ],
   "source": [
    "plt.plot(k_range, k_scores1)\n",
    "plt.show()"
   ]
  },
  {
   "cell_type": "markdown",
   "metadata": {},
   "source": [
    "#### Max accuracy at k=13"
   ]
  },
  {
   "cell_type": "code",
   "execution_count": 15,
   "metadata": {
    "collapsed": false
   },
   "outputs": [
    {
     "data": {
      "text/plain": [
       "(array([ 46.23426093,  19.66577474,  30.79121339]),\n",
       " array([  7.51483288e-11,   1.37627386e-05,   7.23761167e-08]))"
      ]
     },
     "execution_count": 15,
     "metadata": {},
     "output_type": "execute_result"
    }
   ],
   "source": [
    "feature_selection.f_classif(exp_preds, np.array(actual_pick.astype(int)))"
   ]
  },
  {
   "cell_type": "markdown",
   "metadata": {},
   "source": [
    "## Now what happens to accuracy when we also consider stats from previous season?"
   ]
  },
  {
   "cell_type": "code",
   "execution_count": 22,
   "metadata": {
    "collapsed": false
   },
   "outputs": [
    {
     "name": "stdout",
     "output_type": "stream",
     "text": [
      "    ESPN BeacherReport WalterFootball OffensiveBias\n",
      "0      1             1              1           -11\n",
      "1      1             0              0           -10\n",
      "2      1             1              0            16\n",
      "3      0             0              0            12\n",
      "4      0             0              0            17\n",
      "5      0             0              0            10\n",
      "6      0             0              0           -22\n",
      "7      1             1              1            24\n",
      "8      1             1              1            -8\n",
      "9      0             0              0             7\n",
      "10     1             1              1            -6\n",
      "11     1             1              1            -3\n",
      "12     0             1              0             4\n",
      "13     0             0              0           -18\n",
      "14     0             1              1             8\n",
      "15     0             1              1             0\n",
      "16     0             0              1            16\n",
      "17     1             1              1            15\n",
      "18     0             0              0             5\n",
      "19     1             0              0           -10\n",
      "20     1             1              0           -11\n",
      "21     0             1              1             5\n",
      "22     1             1              1            29\n",
      "23     0             0              0            -2\n",
      "24     1             1              1            -6\n",
      "25     0             0              0             0\n",
      "26     0             0              0           -17\n",
      "27     0             1              0            12\n",
      "28     1             1              1            -5\n",
      "29     0             0              1           -18\n",
      "..   ...           ...            ...           ...\n",
      "225    1             0              0             0\n",
      "226    0             1              0           -24\n",
      "227    0             0              0             4\n",
      "228    1             1              1             6\n",
      "229    1             1              1            -9\n",
      "230    1             0              1            -7\n",
      "231    0             0              1             0\n",
      "232    0             0              0           -12\n",
      "233    1             1              0             1\n",
      "234    0             1              1             7\n",
      "235    0             0              0            -9\n",
      "236    0             1              0             1\n",
      "237    0             0              0            -8\n",
      "238    1             0              0             5\n",
      "239    1             0              1            18\n",
      "240    1             0              1             2\n",
      "241    0             0              1            13\n",
      "242    0             0              0            -2\n",
      "243    1             1              0           -30\n",
      "244    1             1              1           -19\n",
      "245    0             0              0            16\n",
      "246    0             0              0            11\n",
      "247    1             1              0           -23\n",
      "248    0             0              0           -16\n",
      "249    1             1              1             9\n",
      "250    0             1              0            15\n",
      "251    1             1              1            11\n",
      "252    1             1              1             5\n",
      "253    1             1              1             2\n",
      "254    0             0              1            -7\n",
      "\n",
      "[255 rows x 4 columns]\n",
      "(255, 4)\n",
      "(255,)\n"
     ]
    },
    {
     "data": {
      "text/plain": [
       "((191, 4), (191,))"
      ]
     },
     "execution_count": 22,
     "metadata": {},
     "output_type": "execute_result"
    }
   ],
   "source": [
    "exp_preds = data_array[:, 2:6]\n",
    "actual_pick = data_array[:,6]\n",
    "exp_preds = pd.DataFrame(exp_preds, columns=['ESPN', 'BeacherReport', 'WalterFootball', 'OffensiveBias'])\n",
    "print exp_preds\n",
    "\n",
    "print exp_preds.shape\n",
    "print actual_pick.shape\n",
    "\n",
    "\n",
    "X_train, X_test, y_train, y_test = cross_validation.train_test_split(exp_preds, actual_pick, test_size=0.25, random_state=3)\n",
    "\n",
    "X_train.shape, y_train.shape"
   ]
  },
  {
   "cell_type": "markdown",
   "metadata": {
    "collapsed": true
   },
   "source": [
    "### Logistic Regression"
   ]
  },
  {
   "cell_type": "code",
   "execution_count": 35,
   "metadata": {
    "collapsed": false
   },
   "outputs": [
    {
     "name": "stdout",
     "output_type": "stream",
     "text": [
      "[[ 1.07750496  1.04410916  1.09465787 -0.89468999]\n",
      " [ 1.07750496 -0.95775427 -0.91352743 -0.81547265]\n",
      " [ 1.07750496  1.04410916 -0.91352743  1.24417827]\n",
      " ..., \n",
      " [ 1.07750496  1.04410916  1.09465787  0.3727875 ]\n",
      " [ 1.07750496  1.04410916  1.09465787  0.13513547]\n",
      " [-0.92806997 -0.95775427  1.09465787 -0.57782062]]\n"
     ]
    },
    {
     "name": "stderr",
     "output_type": "stream",
     "text": [
      "/opt/local/Library/Frameworks/Python.framework/Versions/2.7/lib/python2.7/site-packages/sklearn/utils/validation.py:420: DataConversionWarning: Data with input dtype object was converted to float64 by the scale function.\n",
      "  warnings.warn(msg, DataConversionWarning)\n"
     ]
    }
   ],
   "source": [
    "X_scaled = preprocessing.scale(exp_preds)\n",
    "Y_scaled = preprocessing.scale(actual_pick)\n",
    "print X_scaled"
   ]
  },
  {
   "cell_type": "code",
   "execution_count": 41,
   "metadata": {
    "collapsed": false
   },
   "outputs": [
    {
     "name": "stdout",
     "output_type": "stream",
     "text": [
      "[ 0.61538462  0.84615385  0.69230769  0.84615385  0.65384615  0.65384615\n",
      "  0.8         0.56        0.64        0.625     ]\n",
      "0.693269230769\n"
     ]
    }
   ],
   "source": [
    "logreg = LogisticRegression()\n",
    "scores=cross_val_score(logreg, X_scaled, np.array(Y_scaled.astype(int)), cv=10, scoring='accuracy')\n",
    "print scores\n",
    "print scores.mean()"
   ]
  },
  {
   "cell_type": "code",
   "execution_count": 42,
   "metadata": {
    "collapsed": false
   },
   "outputs": [
    {
     "name": "stdout",
     "output_type": "stream",
     "text": [
      "0.701570680628\n",
      "[0]\n"
     ]
    }
   ],
   "source": [
    "logreg_model = logreg.fit(X_train, y_train.astype(int))\n",
    "print logreg_model.score(X_train, y_train.astype(int))\n",
    "print logreg_model.predict([[0,1,1,32]])\n"
   ]
  },
  {
   "cell_type": "markdown",
   "metadata": {
    "collapsed": true
   },
   "source": [
    "### Random Forest"
   ]
  },
  {
   "cell_type": "code",
   "execution_count": 43,
   "metadata": {
    "collapsed": false
   },
   "outputs": [
    {
     "name": "stdout",
     "output_type": "stream",
     "text": [
      "[ 0.53846154  0.65384615  0.65384615  0.65384615  0.76923077  0.80769231\n",
      "  0.56        0.52        0.64        0.625     ]\n",
      "0.642192307692\n"
     ]
    }
   ],
   "source": [
    "rf_model = RandomForestClassifier()\n",
    "scores=cross_val_score(rf_model, X_scaled, np.array(Y_scaled.astype(int)), cv=10, scoring='accuracy')\n",
    "print scores\n",
    "print scores.mean()"
   ]
  },
  {
   "cell_type": "markdown",
   "metadata": {},
   "source": [
    "### Support Vector Machine"
   ]
  },
  {
   "cell_type": "code",
   "execution_count": 44,
   "metadata": {
    "collapsed": false
   },
   "outputs": [
    {
     "name": "stdout",
     "output_type": "stream",
     "text": [
      "[ 0.65384615  0.76923077  0.61538462  0.69230769  0.57692308  0.69230769\n",
      "  0.8         0.6         0.64        0.66666667]\n",
      "0.670666666667\n"
     ]
    }
   ],
   "source": [
    "svm_model=svm.SVC()\n",
    "scores=cross_val_score(svm_model, X_scaled, np.array(Y_scaled.astype(int)), cv=10, scoring='accuracy')\n",
    "print scores\n",
    "print scores.mean()"
   ]
  },
  {
   "cell_type": "markdown",
   "metadata": {},
   "source": [
    "### K-Nearest Neighbors\n"
   ]
  },
  {
   "cell_type": "code",
   "execution_count": 45,
   "metadata": {
    "collapsed": false
   },
   "outputs": [
    {
     "name": "stdout",
     "output_type": "stream",
     "text": [
      "[0.58803846153846151, 0.62742307692307686, 0.64230769230769225, 0.61555128205128207, 0.63879487179487171, 0.65512820512820513, 0.65898717948717944, 0.67867948717948712, 0.67098717948717934, 0.68605128205128207, 0.66282051282051291, 0.69821794871794873, 0.670679487179487, 0.68652564102564095, 0.6591410256410255, 0.67483333333333317, 0.67051282051282046, 0.68637179487179478, 0.67820512820512824, 0.67452564102564094, 0.6858974358974359, 0.68621794871794861, 0.67820512820512824, 0.68621794871794861, 0.68205128205128207, 0.69775641025641022, 0.68989743589743591, 0.68989743589743591, 0.67805128205128207, 0.68205128205128207, 0.68205128205128207, 0.67820512820512824, 0.69391025641025628, 0.68621794871794861, 0.68621794871794861, 0.69823076923076921, 0.69823076923076921, 0.69791025641025628, 0.69791025641025628, 0.69389743589743591, 0.6903717948717949, 0.69821794871794862, 0.69421794871794873, 0.69437179487179479, 0.69821794871794862, 0.70206410256410245, 0.69421794871794873, 0.69806410256410245, 0.69806410256410256, 0.70191025641025639]\n"
     ]
    }
   ],
   "source": [
    "k_range=range(1,51)\n",
    "k_scores=[]\n",
    "for k in k_range:\n",
    "    knn = KNeighborsClassifier(n_neighbors=k)\n",
    "    scores=cross_val_score(knn, X_scaled, np.array(Y_scaled.astype(int)), cv=10, scoring='accuracy')\n",
    "    k_scores.append(scores.mean())\n",
    "print k_scores\n",
    "avg_kscore = sum(k_scores)/len(k_scores)\n"
   ]
  },
  {
   "cell_type": "code",
   "execution_count": 46,
   "metadata": {
    "collapsed": false
   },
   "outputs": [
    {
     "data": {
      "image/png": "[encoded data removed]",
      "text/plain": [
       "<matplotlib.figure.Figure at 0x1086e5550>"
      ]
     },
     "metadata": {},
     "output_type": "display_data"
    }
   ],
   "source": [
    "plt.figure(figsize=(10,10))\n",
    "plt.plot(k_range, k_scores1, label='Without Team Stats')\n",
    "plt.plot(k_range, k_scores, label='With Team Stats')\n",
    "plt.xticks(fontsize=14)\n",
    "plt.xlabel('Neighbors', fontsize='28')\n",
    "plt.yticks(fontsize=14)\n",
    "plt.ylabel('Accuracy', fontsize='28')\n",
    "legend = plt.legend(loc='center right', prop={'size':16})\n",
    "plt.show()"
   ]
  },
  {
   "cell_type": "code",
   "execution_count": 49,
   "metadata": {
    "collapsed": false
   },
   "outputs": [
    {
     "data": {
      "text/plain": [
       "(array([ 46.23426093,  19.66577474,  30.79121339,   6.23221372]),\n",
       " array([  7.51483288e-11,   1.37627386e-05,   7.23761167e-08,\n",
       "          1.31816890e-02]))"
      ]
     },
     "execution_count": 49,
     "metadata": {},
     "output_type": "execute_result"
    }
   ],
   "source": [
    "feature_selection.f_classif(X_scaled, np.array(Y_scaled.astype(int)))"
   ]
  },
  {
   "cell_type": "code",
   "execution_count": null,
   "metadata": {
    "collapsed": true
   },
   "outputs": [],
   "source": []
  }
 ],
 "metadata": {
  "kernelspec": {
   "display_name": "Python 2",
   "language": "python",
   "name": "python2"
  },
  "language_info": {
   "codemirror_mode": {
    "name": "ipython",
    "version": 2
   },
   "file_extension": ".py",
   "mimetype": "text/x-python",
   "name": "python",
   "nbconvert_exporter": "python",
   "pygments_lexer": "ipython2",
   "version": "2.7.11"
  }
 },
 "nbformat": 4,
 "nbformat_minor": 0
}
