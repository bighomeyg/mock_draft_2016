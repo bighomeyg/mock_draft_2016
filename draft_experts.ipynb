{
 "cells": [
  {
   "cell_type": "markdown",
   "metadata": {},
   "source": [
    "# Mock Draft 2016\n",
    "\n",
    "### Analyzing and modleing from the \"expert\" predictions"
   ]
  },
  {
   "cell_type": "code",
   "execution_count": 24,
   "metadata": {
    "collapsed": false
   },
   "outputs": [],
   "source": [
    "%matplotlib inline\n",
    "\n",
    "import numpy as np\n",
    "import pandas as pd\n",
    "import seaborn as sns\n",
    "import matplotlib.pyplot as plt\n",
    "from sklearn import cross_validation\n",
    "from sklearn import svm\n",
    "from sklearn.neighbors import NearestNeighbors\n",
    "from sklearn.ensemble import RandomForestClassifier \n",
    "from sklearn.linear_model import LogisticRegression\n",
    "from sklearn.cross_validation import cross_val_score\n",
    "from sklearn.neighbors import KNeighborsClassifier\n",
    "from pandas import DataFrame\n",
    "from sklearn import feature_selection"
   ]
  },
  {
   "cell_type": "markdown",
   "metadata": {},
   "source": [
    "Data is compiled in a .csv file containing first round draft predictions from ESPN (Todd McShay and/or Mel Kiper), Bleacher Report, and Walter Football."
   ]
  },
  {
   "cell_type": "markdown",
   "metadata": {},
   "source": [
    "#### First, which \"expert\" has been the most accurate over the past 10 years?"
   ]
  },
  {
   "cell_type": "code",
   "execution_count": 25,
   "metadata": {
    "collapsed": false
   },
   "outputs": [
    {
     "name": "stdout",
     "output_type": "stream",
     "text": [
      "ESPN:\t\t0.698039215686\n",
      "BleacherReport:\t0.635294117647\n",
      "WalterFootball:\t0.666666666667\n"
     ]
    }
   ],
   "source": [
    "with open(\"draft_mock_plus_stats.csv\") as f:\n",
    "    next(f)\n",
    "    espn=0\n",
    "    br=0\n",
    "    wf=0\n",
    "    total=0\n",
    "    for line in f:\n",
    "        if line.split(\",\")[6].strip() != \"\":\n",
    "            total+=1\n",
    "            if line.split(\",\")[2].strip() == line.split(\",\")[6].strip():\n",
    "                espn+=1\n",
    "            if line.split(\",\")[3].strip() == line.split(\",\")[6].strip():\n",
    "                br+=1\n",
    "            if line.split(\",\")[4].strip() == line.split(\",\")[6].strip():\n",
    "                wf+=1\n",
    "print \"ESPN:\\t\\t\", float(espn)/float(total)\n",
    "print \"BleacherReport:\\t\", float(br)/float(total)\n",
    "print \"WalterFootball:\\t\", float(wf)/float(total)"
   ]
  },
  {
   "cell_type": "code",
   "execution_count": 26,
   "metadata": {
    "collapsed": false
   },
   "outputs": [
    {
     "data": {
      "text/html": [
       "<div>\n",
       "<table border=\"1\" class=\"dataframe\">\n",
       "  <thead>\n",
       "    <tr style=\"text-align: right;\">\n",
       "      <th></th>\n",
       "      <th>Team</th>\n",
       "      <th>Year</th>\n",
       "      <th>ESPN</th>\n",
       "      <th>BleacherReport</th>\n",
       "      <th>WalterFootball</th>\n",
       "      <th>OffensiveBias</th>\n",
       "      <th>IsOffense</th>\n",
       "    </tr>\n",
       "  </thead>\n",
       "  <tbody>\n",
       "    <tr>\n",
       "      <th>0</th>\n",
       "      <td>Arizona Cardinals</td>\n",
       "      <td>2006</td>\n",
       "      <td>1.0</td>\n",
       "      <td>1.0</td>\n",
       "      <td>1.0</td>\n",
       "      <td>-11</td>\n",
       "      <td>1.0</td>\n",
       "    </tr>\n",
       "    <tr>\n",
       "      <th>1</th>\n",
       "      <td>Atlanta Falcons</td>\n",
       "      <td>2006</td>\n",
       "      <td>1.0</td>\n",
       "      <td>0.0</td>\n",
       "      <td>0.0</td>\n",
       "      <td>-10</td>\n",
       "      <td>0.0</td>\n",
       "    </tr>\n",
       "    <tr>\n",
       "      <th>2</th>\n",
       "      <td>Baltimore Ravens</td>\n",
       "      <td>2006</td>\n",
       "      <td>1.0</td>\n",
       "      <td>1.0</td>\n",
       "      <td>0.0</td>\n",
       "      <td>16</td>\n",
       "      <td>1.0</td>\n",
       "    </tr>\n",
       "    <tr>\n",
       "      <th>3</th>\n",
       "      <td>Buffalo Bills</td>\n",
       "      <td>2006</td>\n",
       "      <td>0.0</td>\n",
       "      <td>0.0</td>\n",
       "      <td>0.0</td>\n",
       "      <td>12</td>\n",
       "      <td>1.0</td>\n",
       "    </tr>\n",
       "    <tr>\n",
       "      <th>4</th>\n",
       "      <td>Carolina Panthers</td>\n",
       "      <td>2006</td>\n",
       "      <td>0.0</td>\n",
       "      <td>0.0</td>\n",
       "      <td>0.0</td>\n",
       "      <td>17</td>\n",
       "      <td>0.0</td>\n",
       "    </tr>\n",
       "  </tbody>\n",
       "</table>\n",
       "</div>"
      ],
      "text/plain": [
       "                Team  Year  ESPN  BleacherReport  WalterFootball  \\\n",
       "0  Arizona Cardinals  2006   1.0             1.0             1.0   \n",
       "1    Atlanta Falcons  2006   1.0             0.0             0.0   \n",
       "2   Baltimore Ravens  2006   1.0             1.0             0.0   \n",
       "3      Buffalo Bills  2006   0.0             0.0             0.0   \n",
       "4  Carolina Panthers  2006   0.0             0.0             0.0   \n",
       "\n",
       "   OffensiveBias  IsOffense  \n",
       "0            -11        1.0  \n",
       "1            -10        0.0  \n",
       "2             16        1.0  \n",
       "3             12        1.0  \n",
       "4             17        0.0  "
      ]
     },
     "execution_count": 26,
     "metadata": {},
     "output_type": "execute_result"
    }
   ],
   "source": [
    "pd.read_csv(\"draft_mock_plus_stats.csv\").head()"
   ]
  },
  {
   "cell_type": "markdown",
   "metadata": {},
   "source": [
    "Load in the relevant data and omit teams with no first round draft pick from the model:"
   ]
  },
  {
   "cell_type": "code",
   "execution_count": 27,
   "metadata": {
    "collapsed": false
   },
   "outputs": [
    {
     "name": "stdout",
     "output_type": "stream",
     "text": [
      "                Team  Year  ESPN  BleacherReport  WalterFootball  \\\n",
      "0  Arizona Cardinals  2006   1.0             1.0             1.0   \n",
      "1    Atlanta Falcons  2006   1.0             0.0             0.0   \n",
      "2   Baltimore Ravens  2006   1.0             1.0             0.0   \n",
      "3      Buffalo Bills  2006   0.0             0.0             0.0   \n",
      "4  Carolina Panthers  2006   0.0             0.0             0.0   \n",
      "\n",
      "   OffensiveBias  IsOffense  \n",
      "0            -11        1.0  \n",
      "1            -10        0.0  \n",
      "2             16        1.0  \n",
      "3             12        1.0  \n",
      "4             17        0.0  \n"
     ]
    }
   ],
   "source": [
    "all_teams=pd.read_csv(\"draft_mock_plus_stats.csv\")\n",
    "picks=all_teams.dropna(subset=['IsOffense'])\n",
    "print picks.head()"
   ]
  },
  {
   "cell_type": "code",
   "execution_count": 28,
   "metadata": {
    "collapsed": false
   },
   "outputs": [],
   "source": [
    "df = pd.DataFrame(picks)\n",
    "#print df\n",
    "data_array = df.as_matrix()"
   ]
  },
  {
   "cell_type": "code",
   "execution_count": 29,
   "metadata": {
    "collapsed": false
   },
   "outputs": [
    {
     "name": "stdout",
     "output_type": "stream",
     "text": [
      "(255, 3)\n",
      "(255, 3)\n",
      "(255,)\n"
     ]
    },
    {
     "data": {
      "text/plain": [
       "((191, 3), (191,))"
      ]
     },
     "execution_count": 29,
     "metadata": {},
     "output_type": "execute_result"
    }
   ],
   "source": [
    "exp_preds = data_array[:, 2:5]\n",
    "print exp_preds.shape\n",
    "actual_pick = data_array[:,6]\n",
    "exp_preds = pd.DataFrame(exp_preds, columns=['ESPN', 'BeacherReport', 'WalterFootball'])\n",
    "\n",
    "print exp_preds.shape\n",
    "print actual_pick.shape\n",
    "\n",
    "X_train, X_test, y_train, y_test = cross_validation.train_test_split(exp_preds, actual_pick, test_size=0.25, random_state=3)\n",
    "\n",
    "X_train.shape, y_train.shape\n"
   ]
  },
  {
   "cell_type": "markdown",
   "metadata": {},
   "source": [
    "### Logistic Regression"
   ]
  },
  {
   "cell_type": "code",
   "execution_count": 30,
   "metadata": {
    "collapsed": false
   },
   "outputs": [
    {
     "name": "stdout",
     "output_type": "stream",
     "text": [
      "[ 0.61538462  0.84615385  0.61538462  0.80769231  0.65384615  0.73076923\n",
      "  0.8         0.68        0.64        0.75      ]\n",
      "0.713923076923\n"
     ]
    }
   ],
   "source": [
    "logreg = LogisticRegression()\n",
    "scores=cross_val_score(logreg, exp_preds, np.array(actual_pick.astype(int)), cv=10, scoring='accuracy')\n",
    "print scores\n",
    "print scores.mean()"
   ]
  },
  {
   "cell_type": "code",
   "execution_count": 31,
   "metadata": {
    "collapsed": false
   },
   "outputs": [
    {
     "name": "stdout",
     "output_type": "stream",
     "text": [
      "0.706806282723\n",
      "[0]\n"
     ]
    }
   ],
   "source": [
    "logreg_model = logreg.fit(X_train, y_train.astype(int))\n",
    "print logreg_model.score(X_train, y_train.astype(int))\n",
    "print logreg_model.predict([[0,0,1]])\n",
    "#print logreg_model.predict([[0,1,0]])\n",
    "#print logreg_model.predict([[0,0,1]])\n",
    "#print logreg_model.predict([[0,1,1]])"
   ]
  },
  {
   "cell_type": "markdown",
   "metadata": {},
   "source": [
    "### Random Forest\n"
   ]
  },
  {
   "cell_type": "code",
   "execution_count": 32,
   "metadata": {
    "collapsed": false
   },
   "outputs": [
    {
     "name": "stdout",
     "output_type": "stream",
     "text": [
      "[ 0.61538462  0.84615385  0.61538462  0.80769231  0.57692308  0.73076923\n",
      "  0.72        0.6         0.68        0.70833333]\n",
      "0.690064102564\n"
     ]
    }
   ],
   "source": [
    "rf_model = RandomForestClassifier()\n",
    "scores=cross_val_score(rf_model, exp_preds, np.array(actual_pick.astype(int)), cv=10, scoring='accuracy')\n",
    "#rf_model = rf_model.fit(X_train, y_train)\n",
    "print scores\n",
    "print scores.mean()"
   ]
  },
  {
   "cell_type": "markdown",
   "metadata": {},
   "source": [
    "### Support Vector Machine"
   ]
  },
  {
   "cell_type": "code",
   "execution_count": 33,
   "metadata": {
    "collapsed": false
   },
   "outputs": [
    {
     "name": "stdout",
     "output_type": "stream",
     "text": [
      "[ 0.65384615  0.80769231  0.61538462  0.73076923  0.57692308  0.65384615\n",
      "  0.72        0.64        0.64        0.70833333]\n",
      "0.674679487179\n"
     ]
    }
   ],
   "source": [
    "svm_model=svm.SVC()\n",
    "scores=cross_val_score(svm_model, exp_preds, np.array(actual_pick.astype(int)), cv=10, scoring='accuracy')\n",
    "print scores\n",
    "print scores.mean()"
   ]
  },
  {
   "cell_type": "code",
   "execution_count": 34,
   "metadata": {
    "collapsed": false
   },
   "outputs": [
    {
     "data": {
      "text/plain": [
       "(array([ 46.23426093,  19.66577474,  30.79121339]),\n",
       " array([  7.51483288e-11,   1.37627386e-05,   7.23761167e-08]))"
      ]
     },
     "execution_count": 34,
     "metadata": {},
     "output_type": "execute_result"
    }
   ],
   "source": [
    "feature_selection.f_classif(exp_preds, np.array(actual_pick.astype(int)))"
   ]
  },
  {
   "cell_type": "markdown",
   "metadata": {},
   "source": [
    "### K-Nearest Neighbors"
   ]
  },
  {
   "cell_type": "code",
   "execution_count": 35,
   "metadata": {
    "collapsed": false
   },
   "outputs": [
    {
     "name": "stdout",
     "output_type": "stream",
     "text": [
      "[0.61575641025641015, 0.61607692307692308, 0.59251282051282061, 0.63623076923076927, 0.62838461538461532, 0.68700000000000006, 0.64746153846153842, 0.67146153846153844, 0.66761538461538461, 0.68315384615384622, 0.66376923076923078, 0.69069230769230761, 0.70623076923076922, 0.69469230769230772, 0.68284615384615388, 0.68284615384615388, 0.69053846153846155, 0.68284615384615388, 0.69038461538461537, 0.67052564102564094, 0.67837179487179489, 0.70191025641025639, 0.69038461538461537, 0.69438461538461538, 0.68638461538461537, 0.69038461538461537, 0.68621794871794872, 0.69038461538461537, 0.69775641025641022, 0.69038461538461537, 0.69775641025641022, 0.69021794871794862, 0.68621794871794872, 0.68621794871794872, 0.68621794871794872, 0.69791025641025628, 0.69391025641025639, 0.69391025641025639, 0.68621794871794872, 0.69021794871794862, 0.68621794871794872, 0.68621794871794872, 0.69391025641025639, 0.68621794871794872, 0.68621794871794872, 0.68621794871794872, 0.68621794871794872, 0.69021794871794862, 0.69021794871794862, 0.69021794871794862]\n"
     ]
    }
   ],
   "source": [
    "k_range=range(1,51)\n",
    "k_scores1=[]\n",
    "for k in k_range:\n",
    "    knn = KNeighborsClassifier(n_neighbors=k)\n",
    "    scores=cross_val_score(knn, exp_preds, np.array(actual_pick.astype(int)), cv=10, scoring='accuracy')\n",
    "    k_scores1.append(scores.mean())\n",
    "print k_scores1\n",
    "avg_kscore = sum(k_scores1)/len(k_scores1)\n"
   ]
  },
  {
   "cell_type": "code",
   "execution_count": 36,
   "metadata": {
    "collapsed": false
   },
   "outputs": [
    {
     "data": {
      "image/png": "[encoded data removed]",
      "text/plain": [
       "<matplotlib.figure.Figure at 0x110bd9850>"
      ]
     },
     "metadata": {},
     "output_type": "display_data"
    }
   ],
   "source": [
    "plt.plot(k_range, k_scores1)\n",
    "plt.show()"
   ]
  },
  {
   "cell_type": "markdown",
   "metadata": {},
   "source": [
    "#### Max accuracy at k=13"
   ]
  },
  {
   "cell_type": "code",
   "execution_count": 37,
   "metadata": {
    "collapsed": false
   },
   "outputs": [
    {
     "data": {
      "text/plain": [
       "(array([ 46.23426093,  19.66577474,  30.79121339]),\n",
       " array([  7.51483288e-11,   1.37627386e-05,   7.23761167e-08]))"
      ]
     },
     "execution_count": 37,
     "metadata": {},
     "output_type": "execute_result"
    }
   ],
   "source": [
    "feature_selection.f_classif(exp_preds, np.array(actual_pick.astype(int)))"
   ]
  },
  {
   "cell_type": "markdown",
   "metadata": {},
   "source": [
    "## Now what happens to accuracy when we also consider stats from previous season?"
   ]
  },
  {
   "cell_type": "code",
   "execution_count": 38,
   "metadata": {
    "collapsed": false
   },
   "outputs": [
    {
     "name": "stdout",
     "output_type": "stream",
     "text": [
      "(255, 4)\n",
      "(255,)\n"
     ]
    },
    {
     "data": {
      "text/plain": [
       "((191, 4), (191,))"
      ]
     },
     "execution_count": 38,
     "metadata": {},
     "output_type": "execute_result"
    }
   ],
   "source": [
    "exp_preds = data_array[:, 2:6]\n",
    "actual_pick = data_array[:,6]\n",
    "exp_preds = pd.DataFrame(exp_preds, columns=['ESPN', 'BeacherReport', 'WalterFootball', 'OffensiveBias'])\n",
    "\n",
    "\n",
    "print exp_preds.shape\n",
    "print actual_pick.shape\n",
    "\n",
    "\n",
    "X_train, X_test, y_train, y_test = cross_validation.train_test_split(exp_preds, actual_pick, test_size=0.25, random_state=3)\n",
    "\n",
    "X_train.shape, y_train.shape"
   ]
  },
  {
   "cell_type": "markdown",
   "metadata": {
    "collapsed": true
   },
   "source": [
    "### Logistic Regression"
   ]
  },
  {
   "cell_type": "code",
   "execution_count": 39,
   "metadata": {
    "collapsed": false
   },
   "outputs": [
    {
     "name": "stdout",
     "output_type": "stream",
     "text": [
      "[ 0.61538462  0.84615385  0.69230769  0.84615385  0.69230769  0.65384615\n",
      "  0.8         0.56        0.68        0.625     ]\n",
      "0.701115384615\n"
     ]
    }
   ],
   "source": [
    "logreg = LogisticRegression()\n",
    "scores=cross_val_score(logreg, exp_preds, np.array(actual_pick.astype(int)), cv=10, scoring='accuracy')\n",
    "print scores\n",
    "print scores.mean()"
   ]
  },
  {
   "cell_type": "code",
   "execution_count": 40,
   "metadata": {
    "collapsed": false
   },
   "outputs": [
    {
     "name": "stdout",
     "output_type": "stream",
     "text": [
      "0.701570680628\n",
      "[0]\n"
     ]
    }
   ],
   "source": [
    "logreg_model = logreg.fit(X_train, y_train.astype(int))\n",
    "print logreg_model.score(X_train, y_train.astype(int))\n",
    "print logreg_model.predict([[0,1,1,32]])\n"
   ]
  },
  {
   "cell_type": "markdown",
   "metadata": {
    "collapsed": true
   },
   "source": [
    "### Random Forest"
   ]
  },
  {
   "cell_type": "code",
   "execution_count": 41,
   "metadata": {
    "collapsed": false
   },
   "outputs": [
    {
     "name": "stdout",
     "output_type": "stream",
     "text": [
      "[ 0.57692308  0.34615385  0.61538462  0.57692308  0.65384615  0.65384615\n",
      "  0.52        0.6         0.6         0.66666667]\n",
      "0.580974358974\n"
     ]
    }
   ],
   "source": [
    "rf_model = RandomForestClassifier()\n",
    "scores=cross_val_score(rf_model, exp_preds, np.array(actual_pick.astype(int)), cv=10, scoring='accuracy')\n",
    "print scores\n",
    "print scores.mean()"
   ]
  },
  {
   "cell_type": "markdown",
   "metadata": {},
   "source": [
    "### Support Vector Machine"
   ]
  },
  {
   "cell_type": "code",
   "execution_count": 42,
   "metadata": {
    "collapsed": false
   },
   "outputs": [
    {
     "name": "stdout",
     "output_type": "stream",
     "text": [
      "[ 0.65384615  0.61538462  0.53846154  0.73076923  0.69230769  0.57692308\n",
      "  0.44        0.48        0.64        0.5       ]\n",
      "0.586769230769\n"
     ]
    }
   ],
   "source": [
    "svm_model=svm.SVC()\n",
    "scores=cross_val_score(svm_model, exp_preds, np.array(actual_pick.astype(int)), cv=10, scoring='accuracy')\n",
    "print scores\n",
    "print scores.mean()"
   ]
  },
  {
   "cell_type": "markdown",
   "metadata": {},
   "source": [
    "### K-Nearest Neighbors\n"
   ]
  },
  {
   "cell_type": "code",
   "execution_count": 43,
   "metadata": {
    "collapsed": false
   },
   "outputs": [
    {
     "name": "stdout",
     "output_type": "stream",
     "text": [
      "[0.58755128205128215, 0.63064102564102564, 0.55537179487179489, 0.60198717948717939, 0.59794871794871784, 0.6327435897435898, 0.60566666666666669, 0.58533333333333337, 0.59720512820512828, 0.59397435897435902, 0.56193589743589745, 0.578102564102564, 0.57779487179487166, 0.5901153846153846, 0.59060256410256406, 0.61414102564102557, 0.60678205128205132, 0.57535897435897432, 0.59123076923076912, 0.57984615384615379, 0.59091025641025641, 0.56766666666666665, 0.60661538461538456, 0.58721794871794863, 0.59861538461538466, 0.57921794871794874, 0.58658974358974358, 0.57441025641025634, 0.58658974358974358, 0.58211538461538459, 0.56656410256410239, 0.57520512820512826, 0.57520512820512815, 0.57505128205128209, 0.55117948717948706, 0.57073076923076915, 0.56674358974358974, 0.55519230769230765, 0.55919230769230766, 0.57520512820512826, 0.57088461538461543, 0.56703846153846149, 0.5785769230769231, 0.55903846153846148, 0.55919230769230777, 0.57088461538461532, 0.57489743589743592, 0.57489743589743592, 0.56335897435897431, 0.55519230769230765]\n"
     ]
    }
   ],
   "source": [
    "k_range=range(1,51)\n",
    "k_scores=[]\n",
    "for k in k_range:\n",
    "    knn = KNeighborsClassifier(n_neighbors=k)\n",
    "    scores=cross_val_score(knn, exp_preds, np.array(actual_pick.astype(int)), cv=10, scoring='accuracy')\n",
    "    k_scores.append(scores.mean())\n",
    "print k_scores\n",
    "avg_kscore = sum(k_scores)/len(k_scores)\n"
   ]
  },
  {
   "cell_type": "code",
   "execution_count": 44,
   "metadata": {
    "collapsed": false
   },
   "outputs": [
    {
     "data": {
      "image/png": "[encoded data removed]",
      "text/plain": [
       "<matplotlib.figure.Figure at 0x110bc05d0>"
      ]
     },
     "metadata": {},
     "output_type": "display_data"
    }
   ],
   "source": [
    "plt.figure(figsize=(10,10))\n",
    "plt.plot(k_range, k_scores1, label='Without Team Stats')\n",
    "plt.plot(k_range, k_scores, label='With Team Stats')\n",
    "plt.xticks(fontsize=14)\n",
    "plt.xlabel('Neighbors', fontsize='28')\n",
    "plt.yticks(fontsize=14)\n",
    "plt.ylabel('Accuracy', fontsize='28')\n",
    "legend = plt.legend(loc='center right', prop={'size':16})\n",
    "plt.show()"
   ]
  },
  {
   "cell_type": "code",
   "execution_count": 45,
   "metadata": {
    "collapsed": false
   },
   "outputs": [
    {
     "data": {
      "text/plain": [
       "(array([ 46.23426093,  19.66577474,  30.79121339,   6.23221372]),\n",
       " array([  7.51483288e-11,   1.37627386e-05,   7.23761167e-08,\n",
       "          1.31816890e-02]))"
      ]
     },
     "execution_count": 45,
     "metadata": {},
     "output_type": "execute_result"
    }
   ],
   "source": [
    "feature_selection.f_classif(exp_preds, np.array(actual_pick.astype(int)))"
   ]
  },
  {
   "cell_type": "code",
   "execution_count": null,
   "metadata": {
    "collapsed": true
   },
   "outputs": [],
   "source": []
  }
 ],
 "metadata": {
  "kernelspec": {
   "display_name": "Python 2",
   "language": "python",
   "name": "python2"
  },
  "language_info": {
   "codemirror_mode": {
    "name": "ipython",
    "version": 2
   },
   "file_extension": ".py",
   "mimetype": "text/x-python",
   "name": "python",
   "nbconvert_exporter": "python",
   "pygments_lexer": "ipython2",
   "version": "2.7.11"
  }
 },
 "nbformat": 4,
 "nbformat_minor": 0
}
